{
  "nbformat": 4,
  "nbformat_minor": 0,
  "metadata": {
    "colab": {
      "provenance": []
    },
    "kernelspec": {
      "name": "python3",
      "display_name": "Python 3"
    },
    "language_info": {
      "name": "python"
    }
  },
  "cells": [
    {
      "cell_type": "markdown",
      "source": [
        "# **Entrega 1 - Proyecto Final APO 3**\n",
        "\n",
        "## **Sistema de Anotación de Video para Análisis de Actividades Humanas**\n",
        "$$$$\n",
        "**Integrantes del grupo:**\n",
        "\n",
        "*   Mariana De La Cruz - A00399618\n",
        "*   Valentina Gómez - A00398790\n",
        "*   Alexis Delgado - A00399176\n",
        "*   Juan Camilo Amorocho - A00399789\n",
        "\n"
      ],
      "metadata": {
        "id": "YEXV2D2CebJZ"
      }
    },
    {
      "cell_type": "markdown",
      "source": [
        "## **Antecedentes**"
      ],
      "metadata": {
        "id": "kVycuFionvhs"
      }
    },
    {
      "cell_type": "markdown",
      "source": [
        "Durante los últimos años, la investigación en visión por computadora y aprendizaje automático ha experimentado un crecimiento notable, impulsado por el desarrollo de algoritmos más eficientes y el aumento de la capacidad de procesamiento de hardware. Estos avances han permitido crear sistemas capaces de reconocer actividades humanas a partir de secuencias de video, abriendo oportunidades en áreas como la rehabilitación física, el deporte, la ergonomía y la seguridad.\n",
        "\n",
        "Entre las herramientas más representativas se encuentran OpenPose y MediaPipe, que posibilitan la detección precisa de puntos corporales y el seguimiento de movimientos en tiempo real. Estas tecnologías han transformado la forma en que se analizan las posturas y desplazamientos del cuerpo humano, permitiendo la estimación de ángulos articulares y la identificación de patrones de movimiento. Sin embargo, muchos de estos sistemas presentan limitaciones al aplicarse en entornos no controlados o cuando se requiere un análisis en tiempo real con recursos computacionales moderados.\n",
        "\n",
        "A partir de estos antecedentes, se reconoce la necesidad de desarrollar soluciones accesibles, adaptables y precisas que permitan aplicar estas técnicas de manera práctica y educativa, especialmente en contextos donde se requiere analizar actividades básicas del cuerpo humano sin depender de infraestructuras complejas."
      ],
      "metadata": {
        "id": "53IPVRtGhUoG"
      }
    },
    {
      "cell_type": "markdown",
      "source": [
        "## **Contexto**"
      ],
      "metadata": {
        "id": "nocdCyVZoB3u"
      }
    },
    {
      "cell_type": "markdown",
      "source": [
        "El proyecto busca aplicar metodologías de analítica de datos y aprendizaje automático para resolver un problema real mediante el procesamiento y análisis de información visual.\n",
        "\n",
        "El análisis del movimiento humano constituye un desafío técnico que implica la correcta detección y seguimiento de las articulaciones del cuerpo a partir de secuencias de video. Para abordar este reto, se utilizarán herramientas de visión por computadora, que permiten identificar puntos clave del cuerpo y extraer información relevante para su posterior procesamiento.\n",
        "\n",
        "\n",
        "Este proyecto busca aplicar de manera práctica la metodología CRISP-DM, siguiendo las fases de comprensión, preparación, modelado, evaluación e implementación, con el fin de desarrollar un sistema capaz de reconocer actividades humanas básicas a partir de datos capturados por cámara. De esta forma, se pretende lograr una solución técnica completa que integre todos los pasos del proceso de análisis y clasificación de movimiento, desde la captura de datos hasta la generación de resultados interpretables."
      ],
      "metadata": {
        "id": "fNN4Ew5DlgX-"
      }
    },
    {
      "cell_type": "markdown",
      "source": [
        "## **Definición del problema**"
      ],
      "metadata": {
        "id": "JXsl5zo-oGAb"
      }
    },
    {
      "cell_type": "markdown",
      "source": [
        "A pesar de los avances existentes en el reconocimiento de actividades humanas, los sistemas actuales enfrentan dificultades para realizar una clasificación precisa y estable de movimientos en tiempo real, especialmente en condiciones variables de luz, distancia, velocidad y entorno. Estas limitaciones reducen la aplicabilidad de los modelos en escenarios cotidianos o educativos.\n",
        "\n",
        "En este proyecto se plantea el desarrollo de una herramienta de software capaz de analizar actividades humanas básicas como caminar hacia la cámara, caminar de regreso, girar, sentarse y ponerse de pie mediante el seguimiento de articulaciones clave del cuerpo.\n",
        "\n",
        "El sistema utilizará la cámara para capturar el movimiento, procesar la información a través de herramientas como MediaPipe y landmarks, extraer características relevantes (velocidades, ángulos e inclinaciones) y finalmente clasificar la actividad ejecutada utilizando modelos de aprendizaje supervisado.\n",
        "\n",
        "El reto principal consiste en combinar de forma eficiente la detección de pose con la clasificación automática, garantizando que el sistema funcione en tiempo real y sea capaz de adaptarse a diferentes usuarios y condiciones de grabación."
      ],
      "metadata": {
        "id": "yZG8F50oiZUt"
      }
    },
    {
      "cell_type": "markdown",
      "source": [
        "## **Descripción del proceso**"
      ],
      "metadata": {
        "id": "83MrooLFm_Lc"
      }
    },
    {
      "cell_type": "markdown",
      "source": [
        "El sistema propuesto tiene como finalidad analizar actividades humanas básicas mediante la detección y seguimiento de articulaciones corporales en secuencias de video. El proceso inicia con la captura de los videos desde una cámara, cuyos cuadros son procesados utilizando la herramienta MediaPipe, encargada de detectar los landmarks o puntos de referencia del cuerpo humano. Estos puntos representan las posiciones clave de articulaciones como hombros, caderas, rodillas y tobillos, y permiten reconstruir digitalmente la postura corporal de la persona en movimiento.\n",
        "\n",
        "Una vez obtenidos los landmarks, el sistema aplica un proceso de análisis cuantitativo que calcula diversas métricas relacionadas con la dinámica corporal. Entre ellas se encuentran la velocidad promedio del movimiento de la cadera, la inclinación de los hombros, y el ángulo de flexión de la rodilla, además de otros indicadores complementarios como el brillo promedio y el grado de variación entre cuadros consecutivos, que reflejan la intensidad y fluidez del movimiento. Estas mediciones permiten identificar patrones característicos en cada categoría de acción registrada (caminar hacia adelante, retroceder o sentarse), facilitando una evaluación más objetiva de las posturas analizadas.\n",
        "\n",
        "Finalmente, toda la información recopilada se organiza y almacena en bases de datos estructuradas para su posterior visualización y comparación. Esto permite examinar el comportamiento corporal con mayor precisión."
      ],
      "metadata": {
        "id": "gNu0sMWLnHHz"
      }
    },
    {
      "cell_type": "markdown",
      "source": [
        "## **Pregunta de interés**"
      ],
      "metadata": {
        "id": "Ef7xQ15fgU8a"
      }
    },
    {
      "cell_type": "markdown",
      "source": [
        "**¿Cómo puede un sistema de visión por computadora, basado en una cámara RGB y técnicas de aprendizaje automático, analizar en tiempo real las actividades básicas de una persona como caminar, girar, sentarse o ponerse de pie mediante el seguimiento de articulaciones, para clasificar con precisión la actividad y evaluar su postura corporal?**"
      ],
      "metadata": {
        "id": "ToFq1FYg7xse"
      }
    },
    {
      "cell_type": "markdown",
      "source": [
        "\n",
        "\n",
        "## **Objetivo General**\n",
        "\n",
        "\n",
        "\n"
      ],
      "metadata": {
        "id": "2phX-0enouJV"
      }
    },
    {
      "cell_type": "markdown",
      "source": [
        "Desarrollar una herramienta de software que detecte y clasifique en tiempo real actividades humanas específicas y realice un análisis postural mediante el seguimiento de articulaciones clave, mediante el procesamiento de videos."
      ],
      "metadata": {
        "id": "4Dyc1IhNsBNb"
      }
    },
    {
      "cell_type": "markdown",
      "source": [
        "### **Objetivos Especificos**"
      ],
      "metadata": {
        "id": "eKPp2K6rq3C8"
      }
    },
    {
      "cell_type": "markdown",
      "source": [
        "1. Capturar y anotar videos de personas realizando actividades definidas (caminar hacia la cámara, regresar, girar, sentarse, ponerse de pie).\n",
        "\n",
        "2. Implementar un sistema de detección de articulaciones con MediaPipe.\n",
        "\n",
        "3. Extraer características relevantes (coordenadas, ángulos, velocidad de movimiento).\n",
        "\n",
        "4. Entrenar y evaluar modelos de clasificación supervisada (SVM, Random Forest, XGBoost) con validación cruzada.\n",
        "\n",
        "5. Evaluar el desempeño del sistema mediante métricas de precisión y generalización.\n",
        "\n",
        "6. Mostrar los resultados en una interfaz visual que indique la actividad detectada y medidas posturales."
      ],
      "metadata": {
        "id": "FesEOpklq8AI"
      }
    },
    {
      "cell_type": "markdown",
      "source": [
        "## **Tipo de problema**"
      ],
      "metadata": {
        "id": "Pm7rUm6ChHGM"
      }
    },
    {
      "cell_type": "markdown",
      "source": [
        "El proyecto corresponde a un problema de análisis y clasificación de movimiento humano basado en visión por computadora, enfocado en la identificación y caracterización de posturas corporales (como caminar hacia adelante, caminar hacia atrás y sentarse) a partir de secuencias de video.\n",
        "\n",
        "El objetivo principal es desarrollar un sistema capaz de extraer, analizar y comparar patrones de movimiento corporal mediante el procesamiento de video y la detección automática de **landmarks anatómicos**.\n",
        "\n",
        "El propósito final es **clasificar o interpretar distintos tipos de movimiento humano** según sus características biomecánicas, lo cual puede aplicarse en contextos de rehabilitación, ergonomía, deporte o monitoreo de actividades.\n",
        "\n",
        "### **Entrada del sistema**\n",
        "\n",
        "* **Datos de entrada:** Videos en formato `.mp4` o `.avi` que registran a una persona realizando distintas acciones (caminar de frente, caminar de espaldas o sentarse).\n",
        "* Cada video constituye una secuencia temporal de imágenes que el sistema procesará para extraer:\n",
        "\n",
        "  * Propiedades visuales básicas (brillo, resolución, FPS, movimiento).\n",
        "  * Coordenadas tridimensionales de landmarks corporales detectadas con **MediaPipe Pose**.\n",
        "\n",
        "### **Salida del sistema**\n",
        "\n",
        "Datos numéricos procesados, organizados en tablas o CSV, que contienen las métricas de cada video:\n",
        "\n",
        "  * Brillo promedio\n",
        "  * Movimiento promedio\n",
        "  * Velocidad promedio de la cadera\n",
        "  * Inclinación promedio de los hombros\n",
        "  * Ángulo promedio de rodilla\n",
        "  * Duración, FPS y resolución\n",
        "\n",
        "Visualizaciones y reportes gráficos que resumen los patrones de movimiento detectados por categoría.\n",
        "\n",
        "\n",
        "### **Tipo de Aprendizaje**\n",
        "\n",
        "Actualmente, el proyecto se encuentra en la fase de **análisis exploratorio y extracción de características**, por lo que el enfoque inicial es **no supervisado y descriptivo**:\n",
        "\n",
        "* Se analizan los datos sin etiquetas de salida predefinidas, buscando **entender patrones, relaciones y variabilidad** en los movimientos.\n",
        "\n"
      ],
      "metadata": {
        "id": "OIGOjfzvQrur"
      }
    },
    {
      "cell_type": "markdown",
      "source": [
        "## **Metodología**"
      ],
      "metadata": {
        "id": "a35iTARxhkTv"
      }
    },
    {
      "cell_type": "markdown",
      "source": [
        "### **1. Comprensión del negocio**\n",
        "\n",
        "El proyecto busca desarrollar una herramienta de **análisis automático del movimiento corporal humano** a partir de videos, con el fin de facilitar la evaluación de posturas y desplazamientos en contextos como:\n",
        "\n",
        "* **Rehabilitación física** (seguimiento de la ejecución de ejercicios),\n",
        "* **Análisis deportivo** (evaluación de técnica y simetría corporal),\n",
        "* **Ergonomía y salud ocupacional** (detección de posturas inadecuadas o repetitivas).\n",
        "\n",
        "El objetivo general es obtener **métricas cuantitativas y visuales** que describan el comportamiento corporal de una persona durante la ejecución de actividades específicas (caminar hacia adelante, hacia atrás o sentarse).\n",
        "\n",
        "\n",
        "### **2. Comprensión de los datos**\n",
        "\n",
        "* Los datos consisten en **videos en formato `.mp4`** grabados con cámaras RGB convencionales, contenidos en la carpeta `APO3_EntregaFinal/videos`.\n",
        "* Cada video muestra a un individuo realizando una acción corporal específica: **Adelante, Atrás o Sentado**.\n",
        "* Las secuencias fueron procesadas en dos fases:\n",
        "\n",
        "  1. **Análisis sin landmarks:** extracción de métricas visuales generales (brillo, movimiento, duración, resolución).\n",
        "  2. **Análisis con landmarks:** uso de **MediaPipe Pose** para obtener las coordenadas tridimensionales de 33 puntos anatómicos.\n",
        "* Los datos resultantes se organizaron en archivos CSV con las variables de cada video, lo que permite realizar análisis comparativos y exploratorios.\n",
        "\n",
        "\n",
        "### **3. Preparación de los datos**\n",
        "\n",
        "* Se utilizaron librerías como **OpenCV**, **MediaPipe** y **Pandas** para procesar los videos y generar datasets estructurados.\n",
        "\n",
        "* De cada frame se extrajeron y calcularon las siguientes métricas:\n",
        "\n",
        "  * **Brillo promedio**\n",
        "  * **Movimiento promedio (diferencia entre frames)**\n",
        "  * **Velocidad promedio de cadera**\n",
        "  * **Ángulo promedio de rodilla**\n",
        "  * **Inclinación promedio de los hombros**\n",
        "  * **Duración del video**, **FPS**, y **resolución**\n",
        "\n",
        "* Se almacenaron los resultados en una carpeta de salida (`/procesados`) y los landmarks detallados en `/landmarks`.\n",
        "\n",
        "* Además, se aplicaron procesos de **normalización de coordenadas** (x, y, z) para evitar dependencia de la distancia de cámara o el tamaño del sujeto.\n",
        "\n",
        "\n",
        "### **4. Modelado**\n",
        "\n",
        "En la fase actual, el enfoque corresponde a un **análisis descriptivo y exploratorio (EDA)**.\n",
        "\n",
        "* Se realizaron **comparaciones estadísticas** entre categorías (Adelante, Atrás, Sentado).\n",
        "* Se analizaron tendencias en variables como el movimiento promedio, el ángulo de rodilla y la inclinación del tronco.\n",
        "* Se identificaron patrones que diferencian claramente cada acción:\n",
        "\n",
        "  * Adelante y Atrás presentan mayor movimiento y velocidad de cadera.\n",
        "  * Sentado tiene menor movimiento y ángulos de rodilla más cerrados (~140°).\n",
        "  \n",
        "\n",
        "### **5. Evaluación**\n",
        "\n",
        "* Se evaluó la **consistencia de las métricas** entre fases (sin landmarks vs. con landmarks), verificando que las variables base (FPS, brillo, duración) se mantuvieran estables.\n",
        "* Se validó la coherencia biomecánica de las medidas: por ejemplo, ángulos de rodilla más pequeños en la postura Sentado, y mayores valores de movimiento e inclinación en las acciones dinámicas.\n",
        "* Se consideró la calidad visual de los videos procesados con landmarks (pose 3D superpuesta) como evidencia del correcto funcionamiento del modelo de detección corporal.\n",
        "\n",
        "\n",
        "### **6. Despliegue**\n",
        "\n",
        "* Los resultados se almacenaron de forma estructurada en carpetas organizadas (`videos`, `procesados`, `landmarks`, `resultados`).\n",
        "* Se generaron **videos procesados con el esqueleto 3D dibujado** sobre la figura humana, evidenciando la detección de puntos clave.\n",
        "* Los análisis y gráficos resultantes se pueden visualizar directamente desde los archivos CSV en entornos como Colab o Jupyter Notebook, permitiendo su futura integración en una interfaz interactiva o un dashboard de monitoreo de movimiento.\n"
      ],
      "metadata": {
        "id": "5zmNlntX0VIi"
      }
    },
    {
      "cell_type": "markdown",
      "source": [
        "## **Métricas**"
      ],
      "metadata": {
        "id": "ueKboXGwuqlh"
      }
    },
    {
      "cell_type": "markdown",
      "source": [
        "Antes de realizar el procesamiento y análisis exploratorio de datos de los videos, se definió un conjunto de métricas cuantitativas que permitirían evaluar las características visuales y biomecánicas de los videos. Estas métricas fueron seleccionadas considerando tanto aspectos técnicos del material (calidad, duración, iluminación) como indicadores de movimiento corporal (postura, desplazamiento y estabilidad)."
      ],
      "metadata": {
        "id": "lERENMq2uuRR"
      }
    },
    {
      "cell_type": "markdown",
      "source": [
        "### **Fase 1: Análisis sin Landmarks**\n",
        "\n",
        "En la primera fase se planearon métricas basadas en propiedades generales de los videos, con el objetivo de realizar una caracterización básica del material antes de aplicar técnicas de reconocimiento corporal.\n",
        "\n",
        "* **Brillo promedio:** valor medio de intensidad luminosa de los píxeles, utilizado para evaluar la consistencia de iluminación entre videos.\n",
        "* **Duración del video:** tiempo total en segundos; permite comparar la extensión de las grabaciones.\n",
        "* **Número de frames:** cantidad total de fotogramas procesados, relacionada directamente con la duración y los FPS.\n",
        "* **Frecuencia de cuadros por segundo (FPS):** mide la estabilidad temporal y la fluidez del video; todos los videos mantienen una frecuencia de 30 FPS.\n",
        "* **Movimiento promedio entre frames:** diferencia de intensidad de píxeles entre fotogramas consecutivos; indica el nivel de actividad o desplazamiento.\n",
        "* **Velocidad promedio estimada:** calculada a partir de la variación general de la posición de la persona; refleja la intensidad del movimiento global.\n",
        "* **Inclinación promedio:** diferencia vertical entre los hombros izquierdo y derecho, usada como estimación inicial de la postura corporal.\n",
        "\n"
      ],
      "metadata": {
        "id": "pH1jBiH-PnYF"
      }
    },
    {
      "cell_type": "markdown",
      "source": [
        "### **Fase 2: Análisis con Landmarks (MediaPipe Pose)**\n",
        "\n",
        "En la segunda fase, se incorporaron métricas biomecánicas obtenidas mediante el modelo **MediaPipe Pose**, el cual permite identificar 33 puntos anatómicos (landmarks) del cuerpo humano.\n",
        "El objetivo fue cuantificar la postura y el movimiento con mayor precisión.\n",
        "\n",
        "* **Velocidad promedio de la cadera:** se calcula con base en el desplazamiento del punto medio entre ambas caderas a lo largo del video, representando la estabilidad y ritmo del movimiento.\n",
        "* **Inclinación promedio de los hombros:** diferencia vertical entre los hombros, útil para detectar desbalance o asimetrías posturales.\n",
        "* **Ángulo promedio de la rodilla:** formado por las articulaciones de la cadera, rodilla y tobillo; refleja el grado de flexión o extensión de la pierna.\n",
        "* **Movimiento promedio:** variación entre fotogramas consecutivos, complementado con la información de los landmarks para medir desplazamiento efectivo.\n",
        "* **Brillo, duración, frames y FPS:** métricas conservadas de la primera fase para mantener consistencia comparativa entre los dos enfoques."
      ],
      "metadata": {
        "id": "WlReAbGpPsFm"
      }
    },
    {
      "cell_type": "markdown",
      "source": [
        "Estas métricas combinadas permiten obtener una visión integral del comportamiento corporal, desde la calidad del video hasta la precisión anatómica del movimiento. En conjunto, constituyen la base cuantitativa para el análisis posterior, las visualizaciones de resultados y la comparación entre las distintas categorías de movimiento (*Adelante*, *Atrás* y *Sentado*)."
      ],
      "metadata": {
        "id": "6b90Awz8PtOE"
      }
    },
    {
      "cell_type": "markdown",
      "source": [
        "## **Datos recolectados**"
      ],
      "metadata": {
        "id": "jasjBwzEwb8a"
      }
    },
    {
      "cell_type": "markdown",
      "source": [
        "Los datos utilizados en este proyecto provienen de videos donde cada uno registra a una persona realizando una de las cinco actividades de interés: caminar, girar, sentarse, ponerse de pie y permanecer de pie.\n"
      ],
      "metadata": {
        "id": "vHXEVW3ewfqt"
      }
    },
    {
      "cell_type": "code",
      "source": [
        "# Limpieza de versiones incompatibles y reinstalación estable\n",
        "!pip uninstall -y numpy opencv-python opencv-contrib-python opencv-python-headless mediapipe\n",
        "!pip install numpy==1.26.4 mediapipe==0.10.20 pandas==2.2.2 matplotlib seaborn tqdm opencv-python-headless==4.9.0.80"
      ],
      "metadata": {
        "id": "jDOXohu2hkY6",
        "outputId": "531b1d2c-2f46-4a91-ab5f-ebe925385b96",
        "colab": {
          "base_uri": "https://localhost:8080/",
          "height": 1000
        },
        "collapsed": true
      },
      "execution_count": 1,
      "outputs": [
        {
          "output_type": "stream",
          "name": "stdout",
          "text": [
            "Found existing installation: numpy 2.0.2\n",
            "Uninstalling numpy-2.0.2:\n",
            "  Successfully uninstalled numpy-2.0.2\n",
            "Found existing installation: opencv-python 4.12.0.88\n",
            "Uninstalling opencv-python-4.12.0.88:\n",
            "  Successfully uninstalled opencv-python-4.12.0.88\n",
            "Found existing installation: opencv-contrib-python 4.12.0.88\n",
            "Uninstalling opencv-contrib-python-4.12.0.88:\n",
            "  Successfully uninstalled opencv-contrib-python-4.12.0.88\n",
            "Found existing installation: opencv-python-headless 4.12.0.88\n",
            "Uninstalling opencv-python-headless-4.12.0.88:\n",
            "  Successfully uninstalled opencv-python-headless-4.12.0.88\n",
            "\u001b[33mWARNING: Skipping mediapipe as it is not installed.\u001b[0m\u001b[33m\n",
            "\u001b[0mCollecting numpy==1.26.4\n",
            "  Downloading numpy-1.26.4-cp312-cp312-manylinux_2_17_x86_64.manylinux2014_x86_64.whl.metadata (61 kB)\n",
            "\u001b[2K     \u001b[90m━━━━━━━━━━━━━━━━━━━━━━━━━━━━━━━━━━━━━━━━\u001b[0m \u001b[32m61.0/61.0 kB\u001b[0m \u001b[31m2.9 MB/s\u001b[0m eta \u001b[36m0:00:00\u001b[0m\n",
            "\u001b[?25hCollecting mediapipe==0.10.20\n",
            "  Downloading mediapipe-0.10.20-cp312-cp312-manylinux_2_28_x86_64.whl.metadata (9.7 kB)\n",
            "Requirement already satisfied: pandas==2.2.2 in /usr/local/lib/python3.12/dist-packages (2.2.2)\n",
            "Requirement already satisfied: matplotlib in /usr/local/lib/python3.12/dist-packages (3.10.0)\n",
            "Requirement already satisfied: seaborn in /usr/local/lib/python3.12/dist-packages (0.13.2)\n",
            "Requirement already satisfied: tqdm in /usr/local/lib/python3.12/dist-packages (4.67.1)\n",
            "Collecting opencv-python-headless==4.9.0.80\n",
            "  Downloading opencv_python_headless-4.9.0.80-cp37-abi3-manylinux_2_17_x86_64.manylinux2014_x86_64.whl.metadata (20 kB)\n",
            "Requirement already satisfied: absl-py in /usr/local/lib/python3.12/dist-packages (from mediapipe==0.10.20) (1.4.0)\n",
            "Requirement already satisfied: attrs>=19.1.0 in /usr/local/lib/python3.12/dist-packages (from mediapipe==0.10.20) (25.4.0)\n",
            "Requirement already satisfied: flatbuffers>=2.0 in /usr/local/lib/python3.12/dist-packages (from mediapipe==0.10.20) (25.9.23)\n",
            "Requirement already satisfied: jax in /usr/local/lib/python3.12/dist-packages (from mediapipe==0.10.20) (0.5.3)\n",
            "Requirement already satisfied: jaxlib in /usr/local/lib/python3.12/dist-packages (from mediapipe==0.10.20) (0.5.3)\n",
            "Collecting opencv-contrib-python (from mediapipe==0.10.20)\n",
            "  Downloading opencv_contrib_python-4.12.0.88-cp37-abi3-manylinux2014_x86_64.manylinux_2_17_x86_64.whl.metadata (19 kB)\n",
            "Collecting protobuf<5,>=4.25.3 (from mediapipe==0.10.20)\n",
            "  Downloading protobuf-4.25.8-cp37-abi3-manylinux2014_x86_64.whl.metadata (541 bytes)\n",
            "Collecting sounddevice>=0.4.4 (from mediapipe==0.10.20)\n",
            "  Downloading sounddevice-0.5.2-py3-none-any.whl.metadata (1.6 kB)\n",
            "Requirement already satisfied: sentencepiece in /usr/local/lib/python3.12/dist-packages (from mediapipe==0.10.20) (0.2.1)\n",
            "Requirement already satisfied: python-dateutil>=2.8.2 in /usr/local/lib/python3.12/dist-packages (from pandas==2.2.2) (2.9.0.post0)\n",
            "Requirement already satisfied: pytz>=2020.1 in /usr/local/lib/python3.12/dist-packages (from pandas==2.2.2) (2025.2)\n",
            "Requirement already satisfied: tzdata>=2022.7 in /usr/local/lib/python3.12/dist-packages (from pandas==2.2.2) (2025.2)\n",
            "Requirement already satisfied: contourpy>=1.0.1 in /usr/local/lib/python3.12/dist-packages (from matplotlib) (1.3.3)\n",
            "Requirement already satisfied: cycler>=0.10 in /usr/local/lib/python3.12/dist-packages (from matplotlib) (0.12.1)\n",
            "Requirement already satisfied: fonttools>=4.22.0 in /usr/local/lib/python3.12/dist-packages (from matplotlib) (4.60.1)\n",
            "Requirement already satisfied: kiwisolver>=1.3.1 in /usr/local/lib/python3.12/dist-packages (from matplotlib) (1.4.9)\n",
            "Requirement already satisfied: packaging>=20.0 in /usr/local/lib/python3.12/dist-packages (from matplotlib) (25.0)\n",
            "Requirement already satisfied: pillow>=8 in /usr/local/lib/python3.12/dist-packages (from matplotlib) (11.3.0)\n",
            "Requirement already satisfied: pyparsing>=2.3.1 in /usr/local/lib/python3.12/dist-packages (from matplotlib) (3.2.5)\n",
            "Requirement already satisfied: six>=1.5 in /usr/local/lib/python3.12/dist-packages (from python-dateutil>=2.8.2->pandas==2.2.2) (1.17.0)\n",
            "Requirement already satisfied: CFFI>=1.0 in /usr/local/lib/python3.12/dist-packages (from sounddevice>=0.4.4->mediapipe==0.10.20) (2.0.0)\n",
            "Requirement already satisfied: ml_dtypes>=0.4.0 in /usr/local/lib/python3.12/dist-packages (from jax->mediapipe==0.10.20) (0.5.3)\n",
            "Requirement already satisfied: opt_einsum in /usr/local/lib/python3.12/dist-packages (from jax->mediapipe==0.10.20) (3.4.0)\n",
            "Requirement already satisfied: scipy>=1.11.1 in /usr/local/lib/python3.12/dist-packages (from jax->mediapipe==0.10.20) (1.16.2)\n",
            "INFO: pip is looking at multiple versions of opencv-contrib-python to determine which version is compatible with other requirements. This could take a while.\n",
            "Collecting opencv-contrib-python (from mediapipe==0.10.20)\n",
            "  Downloading opencv_contrib_python-4.11.0.86-cp37-abi3-manylinux_2_17_x86_64.manylinux2014_x86_64.whl.metadata (20 kB)\n",
            "Requirement already satisfied: pycparser in /usr/local/lib/python3.12/dist-packages (from CFFI>=1.0->sounddevice>=0.4.4->mediapipe==0.10.20) (2.23)\n",
            "Downloading numpy-1.26.4-cp312-cp312-manylinux_2_17_x86_64.manylinux2014_x86_64.whl (18.0 MB)\n",
            "\u001b[2K   \u001b[90m━━━━━━━━━━━━━━━━━━━━━━━━━━━━━━━━━━━━━━━━\u001b[0m \u001b[32m18.0/18.0 MB\u001b[0m \u001b[31m82.8 MB/s\u001b[0m eta \u001b[36m0:00:00\u001b[0m\n",
            "\u001b[?25hDownloading mediapipe-0.10.20-cp312-cp312-manylinux_2_28_x86_64.whl (35.6 MB)\n",
            "\u001b[2K   \u001b[90m━━━━━━━━━━━━━━━━━━━━━━━━━━━━━━━━━━━━━━━━\u001b[0m \u001b[32m35.6/35.6 MB\u001b[0m \u001b[31m13.1 MB/s\u001b[0m eta \u001b[36m0:00:00\u001b[0m\n",
            "\u001b[?25hDownloading opencv_python_headless-4.9.0.80-cp37-abi3-manylinux_2_17_x86_64.manylinux2014_x86_64.whl (49.6 MB)\n",
            "\u001b[2K   \u001b[90m━━━━━━━━━━━━━━━━━━━━━━━━━━━━━━━━━━━━━━━━\u001b[0m \u001b[32m49.6/49.6 MB\u001b[0m \u001b[31m13.7 MB/s\u001b[0m eta \u001b[36m0:00:00\u001b[0m\n",
            "\u001b[?25hDownloading protobuf-4.25.8-cp37-abi3-manylinux2014_x86_64.whl (294 kB)\n",
            "\u001b[2K   \u001b[90m━━━━━━━━━━━━━━━━━━━━━━━━━━━━━━━━━━━━━━━━\u001b[0m \u001b[32m294.9/294.9 kB\u001b[0m \u001b[31m12.8 MB/s\u001b[0m eta \u001b[36m0:00:00\u001b[0m\n",
            "\u001b[?25hDownloading sounddevice-0.5.2-py3-none-any.whl (32 kB)\n",
            "Downloading opencv_contrib_python-4.11.0.86-cp37-abi3-manylinux_2_17_x86_64.manylinux2014_x86_64.whl (69.1 MB)\n",
            "\u001b[2K   \u001b[90m━━━━━━━━━━━━━━━━━━━━━━━━━━━━━━━━━━━━━━━━\u001b[0m \u001b[32m69.1/69.1 MB\u001b[0m \u001b[31m9.6 MB/s\u001b[0m eta \u001b[36m0:00:00\u001b[0m\n",
            "\u001b[?25hInstalling collected packages: protobuf, numpy, sounddevice, opencv-python-headless, opencv-contrib-python, mediapipe\n",
            "  Attempting uninstall: protobuf\n",
            "    Found existing installation: protobuf 5.29.5\n",
            "    Uninstalling protobuf-5.29.5:\n",
            "      Successfully uninstalled protobuf-5.29.5\n",
            "\u001b[31mERROR: pip's dependency resolver does not currently take into account all the packages that are installed. This behaviour is the source of the following dependency conflicts.\n",
            "dopamine-rl 4.1.2 requires opencv-python>=3.4.8.29, which is not installed.\n",
            "thinc 8.3.6 requires numpy<3.0.0,>=2.0.0, but you have numpy 1.26.4 which is incompatible.\n",
            "ydf 0.13.0 requires protobuf<7.0.0,>=5.29.1, but you have protobuf 4.25.8 which is incompatible.\n",
            "opentelemetry-proto 1.37.0 requires protobuf<7.0,>=5.0, but you have protobuf 4.25.8 which is incompatible.\n",
            "grpcio-status 1.71.2 requires protobuf<6.0dev,>=5.26.1, but you have protobuf 4.25.8 which is incompatible.\u001b[0m\u001b[31m\n",
            "\u001b[0mSuccessfully installed mediapipe-0.10.20 numpy-1.26.4 opencv-contrib-python-4.11.0.86 opencv-python-headless-4.9.0.80 protobuf-4.25.8 sounddevice-0.5.2\n"
          ]
        },
        {
          "output_type": "display_data",
          "data": {
            "application/vnd.colab-display-data+json": {
              "pip_warning": {
                "packages": [
                  "google",
                  "numpy"
                ]
              },
              "id": "c09627d1ee39407f882f237ce150fc7a"
            }
          },
          "metadata": {}
        }
      ]
    },
    {
      "cell_type": "code",
      "source": [
        "import os\n",
        "import cv2\n",
        "import numpy as np\n",
        "import pandas as pd\n",
        "import matplotlib.pyplot as plt\n",
        "import seaborn as sns\n",
        "from tqdm import tqdm\n",
        "from google.colab import drive\n",
        "import mediapipe as mp\n",
        "\n",
        "print(\"Entorno configurado correctamente y librerías cargadas.\")"
      ],
      "metadata": {
        "colab": {
          "base_uri": "https://localhost:8080/"
        },
        "id": "lE5UeWBJcp4w",
        "outputId": "9c8def65-ca4c-4ec4-dc72-d969ffe5a0fb"
      },
      "execution_count": 15,
      "outputs": [
        {
          "output_type": "stream",
          "name": "stdout",
          "text": [
            "Entorno configurado correctamente y librerías cargadas.\n"
          ]
        }
      ]
    },
    {
      "cell_type": "markdown",
      "source": [
        "### Fase 1: Sin landmarks (MediaPipe)"
      ],
      "metadata": {
        "id": "Yq0Y2NXu6MqI"
      }
    },
    {
      "cell_type": "code",
      "source": [
        "drive.mount('/content/drive')\n",
        "\n",
        "# Ruta a tu carpeta de videos\n",
        "BASE_PATH = \"/content/drive/MyDrive/APO3_EntregaFinal/Entrega1\"\n",
        "VIDEOS_PATH = os.path.join(BASE_PATH, \"videos\")\n",
        "os.makedirs(os.path.join(BASE_PATH, \"resultados\"), exist_ok=True)\n",
        "\n",
        "categorias = [\"Adelante\", \"Atras\", \"Sentado\"]\n",
        "total_videos = 0\n",
        "\n",
        "for categoria in categorias:\n",
        "    carpeta = os.path.join(VIDEOS_PATH, categoria)\n",
        "    if not os.path.exists(carpeta):\n",
        "        print(f\"No se encontró la carpeta: {carpeta}\")\n",
        "        continue\n",
        "\n",
        "    videos = [f for f in os.listdir(carpeta) if f.endswith(('.mp4', '.avi', '.mov'))]\n",
        "    print(f\"{categoria}: {len(videos)} videos encontrados\")\n",
        "    total_videos += len(videos)\n",
        "\n",
        "print(f\"\\nTotal de videos encontrados en todas las categorías: {total_videos}\")\n"
      ],
      "metadata": {
        "colab": {
          "base_uri": "https://localhost:8080/"
        },
        "id": "ETTcfgtakI_J",
        "outputId": "61c1618f-1154-4f00-dd9d-e2abb9cc4917"
      },
      "execution_count": 2,
      "outputs": [
        {
          "output_type": "stream",
          "name": "stdout",
          "text": [
            "Mounted at /content/drive\n",
            "Adelante: 18 videos encontrados\n",
            "Atras: 18 videos encontrados\n",
            "Sentado: 18 videos encontrados\n",
            "\n",
            "Total de videos encontrados en todas las categorías: 54\n"
          ]
        }
      ]
    },
    {
      "cell_type": "code",
      "source": [
        "mp_pose = mp.solutions.pose\n",
        "pose = mp_pose.Pose(static_image_mode=False, min_detection_confidence=0.5)"
      ],
      "metadata": {
        "id": "MboFqgoS4G5D"
      },
      "execution_count": 3,
      "outputs": []
    },
    {
      "cell_type": "code",
      "source": [
        "def analizar_video(video_path, categoria):\n",
        "    cap = cv2.VideoCapture(video_path)\n",
        "    if not cap.isOpened():\n",
        "        return None\n",
        "\n",
        "    fps = cap.get(cv2.CAP_PROP_FPS)\n",
        "    width  = int(cap.get(cv2.CAP_PROP_FRAME_WIDTH))\n",
        "    height = int(cap.get(cv2.CAP_PROP_FRAME_HEIGHT))\n",
        "    frames = int(cap.get(cv2.CAP_PROP_FRAME_COUNT))\n",
        "    duracion = frames / fps if fps > 0 else 0\n",
        "\n",
        "    total_brillo, total_mov, total_velocidad, total_inclinacion = 0,0,0,0\n",
        "    frame_count = 0\n",
        "\n",
        "    ret, prev_frame = cap.read()\n",
        "    if not ret:\n",
        "        cap.release()\n",
        "        return None\n",
        "    prev_gray = cv2.cvtColor(prev_frame, cv2.COLOR_BGR2GRAY)\n",
        "\n",
        "    prev_hip = None\n",
        "    while True:\n",
        "        ret, frame = cap.read()\n",
        "        if not ret:\n",
        "            break\n",
        "        gray = cv2.cvtColor(frame, cv2.COLOR_BGR2GRAY)\n",
        "        brillo = np.mean(gray)\n",
        "        total_brillo += brillo\n",
        "\n",
        "        # movimiento promedio (cambio entre frames)\n",
        "        diff = cv2.absdiff(prev_gray, gray)\n",
        "        total_mov += np.mean(diff)\n",
        "        prev_gray = gray\n",
        "\n",
        "        # detección de inclinación con MediaPipe\n",
        "        results = pose.process(cv2.cvtColor(frame, cv2.COLOR_BGR2RGB))\n",
        "        if results.pose_landmarks:\n",
        "            l_shoulder = results.pose_landmarks.landmark[11]\n",
        "            r_shoulder = results.pose_landmarks.landmark[12]\n",
        "            incl = abs(l_shoulder.y - r_shoulder.y)  # inclinación vertical\n",
        "            total_inclinacion += incl\n",
        "\n",
        "            # estimar velocidad de cadera (movimiento del punto medio)\n",
        "            hip = np.array([\n",
        "                (results.pose_landmarks.landmark[23].x + results.pose_landmarks.landmark[24].x) / 2,\n",
        "                (results.pose_landmarks.landmark[23].y + results.pose_landmarks.landmark[24].y) / 2\n",
        "            ])\n",
        "            if prev_hip is not None:\n",
        "                total_velocidad += np.linalg.norm(hip - prev_hip)\n",
        "            prev_hip = hip\n",
        "\n",
        "        frame_count += 1\n",
        "\n",
        "    cap.release()\n",
        "\n",
        "    return {\n",
        "        \"categoria\": categoria,\n",
        "        \"video\": os.path.basename(video_path),\n",
        "        \"fps\": round(fps,2),\n",
        "        \"duracion_seg\": round(duracion,2),\n",
        "        \"resolucion\": f\"{width}x{height}\",\n",
        "        \"frames\": frames,\n",
        "        \"brillo_promedio\": round(total_brillo / max(frame_count,1), 2),\n",
        "        \"movimiento_promedio\": round(total_mov / max(frame_count,1), 2),\n",
        "        \"velocidad_promedio\": round(total_velocidad / max(frame_count,1), 4),\n",
        "        \"inclinacion_promedio\": round(total_inclinacion / max(frame_count,1), 4)\n",
        "    }\n"
      ],
      "metadata": {
        "id": "q4PZvJTbjua1"
      },
      "execution_count": 4,
      "outputs": []
    },
    {
      "cell_type": "code",
      "source": [
        "categorias = [\"Adelante\", \"Atras\", \"Sentado\"]\n",
        "resultados = []\n",
        "\n",
        "for categoria in categorias:\n",
        "    carpeta = os.path.join(VIDEOS_PATH, categoria)\n",
        "    videos = [f for f in os.listdir(carpeta) if f.endswith(('.mp4', '.avi', '.mov'))]\n",
        "    print(f\"\\n Procesando carpeta '{categoria}' ({len(videos)} videos)\")\n",
        "    for v in tqdm(videos):\n",
        "        video_path = os.path.join(carpeta, v)\n",
        "        info = analizar_video(video_path, categoria)\n",
        "        if info:\n",
        "            info[\"categoria\"] = categoria\n",
        "            resultados.append(info)"
      ],
      "metadata": {
        "id": "YJh1vv7Sjzpi",
        "colab": {
          "base_uri": "https://localhost:8080/"
        },
        "outputId": "4bedd9e6-5cb6-45b6-cd72-5b0c010f6be6"
      },
      "execution_count": 5,
      "outputs": [
        {
          "output_type": "stream",
          "name": "stdout",
          "text": [
            "\n",
            " Procesando carpeta 'Adelante' (18 videos)\n"
          ]
        },
        {
          "output_type": "stream",
          "name": "stderr",
          "text": [
            "100%|██████████| 18/18 [01:58<00:00,  6.60s/it]\n"
          ]
        },
        {
          "output_type": "stream",
          "name": "stdout",
          "text": [
            "\n",
            " Procesando carpeta 'Atras' (18 videos)\n"
          ]
        },
        {
          "output_type": "stream",
          "name": "stderr",
          "text": [
            "100%|██████████| 18/18 [01:30<00:00,  5.04s/it]\n"
          ]
        },
        {
          "output_type": "stream",
          "name": "stdout",
          "text": [
            "\n",
            " Procesando carpeta 'Sentado' (18 videos)\n"
          ]
        },
        {
          "output_type": "stream",
          "name": "stderr",
          "text": [
            "100%|██████████| 18/18 [02:07<00:00,  7.09s/it]\n"
          ]
        }
      ]
    },
    {
      "cell_type": "code",
      "source": [
        "df = pd.DataFrame(resultados)\n",
        "csv_path = os.path.join(BASE_PATH, \"resultados\", \"analisis_videos_sin_landmarks.csv\")\n",
        "df.to_csv(csv_path, index=False)\n",
        "print(f\"\\n Análisis completado. Resultados guardados en: {csv_path}\")\n",
        "display(df.head())"
      ],
      "metadata": {
        "colab": {
          "base_uri": "https://localhost:8080/",
          "height": 241
        },
        "id": "wZ_R5YOUCyOR",
        "outputId": "56137a2a-cb60-45db-9b06-4bf8b975f8f0"
      },
      "execution_count": 6,
      "outputs": [
        {
          "output_type": "stream",
          "name": "stdout",
          "text": [
            "\n",
            " Análisis completado. Resultados guardados en: /content/drive/MyDrive/APO3_EntregaFinal/Entrega1/resultados/analisis_videos_sin_landmarks.csv\n"
          ]
        },
        {
          "output_type": "display_data",
          "data": {
            "text/plain": [
              "  categoria          video   fps  duracion_seg resolucion  frames  \\\n",
              "0  Adelante  adelante1.mp4  30.0          3.40  1080x1908     102   \n",
              "1  Adelante  adelante2.mp4  30.0          3.40  1080x1908     102   \n",
              "2  Adelante  adelante3.mp4  30.0          2.73  1080x1908      82   \n",
              "3  Adelante  adelante4.mp4  30.0          3.90  1080x1908     117   \n",
              "4  Adelante  adelante5.mp4  30.0          3.70  1080x1908     111   \n",
              "\n",
              "   brillo_promedio  movimiento_promedio  velocidad_promedio  \\\n",
              "0           145.51                 1.42              0.0015   \n",
              "1           139.24                 1.79              0.0037   \n",
              "2           142.63                 1.21              0.0028   \n",
              "3           147.12                 1.69              0.0023   \n",
              "4           140.79                 1.34              0.0019   \n",
              "\n",
              "   inclinacion_promedio  \n",
              "0                0.0028  \n",
              "1                0.0025  \n",
              "2                0.0035  \n",
              "3                0.0031  \n",
              "4                0.0039  "
            ],
            "text/html": [
              "\n",
              "  <div id=\"df-30a035bf-4ab1-4f11-a156-34eba8de79ec\" class=\"colab-df-container\">\n",
              "    <div>\n",
              "<style scoped>\n",
              "    .dataframe tbody tr th:only-of-type {\n",
              "        vertical-align: middle;\n",
              "    }\n",
              "\n",
              "    .dataframe tbody tr th {\n",
              "        vertical-align: top;\n",
              "    }\n",
              "\n",
              "    .dataframe thead th {\n",
              "        text-align: right;\n",
              "    }\n",
              "</style>\n",
              "<table border=\"1\" class=\"dataframe\">\n",
              "  <thead>\n",
              "    <tr style=\"text-align: right;\">\n",
              "      <th></th>\n",
              "      <th>categoria</th>\n",
              "      <th>video</th>\n",
              "      <th>fps</th>\n",
              "      <th>duracion_seg</th>\n",
              "      <th>resolucion</th>\n",
              "      <th>frames</th>\n",
              "      <th>brillo_promedio</th>\n",
              "      <th>movimiento_promedio</th>\n",
              "      <th>velocidad_promedio</th>\n",
              "      <th>inclinacion_promedio</th>\n",
              "    </tr>\n",
              "  </thead>\n",
              "  <tbody>\n",
              "    <tr>\n",
              "      <th>0</th>\n",
              "      <td>Adelante</td>\n",
              "      <td>adelante1.mp4</td>\n",
              "      <td>30.0</td>\n",
              "      <td>3.40</td>\n",
              "      <td>1080x1908</td>\n",
              "      <td>102</td>\n",
              "      <td>145.51</td>\n",
              "      <td>1.42</td>\n",
              "      <td>0.0015</td>\n",
              "      <td>0.0028</td>\n",
              "    </tr>\n",
              "    <tr>\n",
              "      <th>1</th>\n",
              "      <td>Adelante</td>\n",
              "      <td>adelante2.mp4</td>\n",
              "      <td>30.0</td>\n",
              "      <td>3.40</td>\n",
              "      <td>1080x1908</td>\n",
              "      <td>102</td>\n",
              "      <td>139.24</td>\n",
              "      <td>1.79</td>\n",
              "      <td>0.0037</td>\n",
              "      <td>0.0025</td>\n",
              "    </tr>\n",
              "    <tr>\n",
              "      <th>2</th>\n",
              "      <td>Adelante</td>\n",
              "      <td>adelante3.mp4</td>\n",
              "      <td>30.0</td>\n",
              "      <td>2.73</td>\n",
              "      <td>1080x1908</td>\n",
              "      <td>82</td>\n",
              "      <td>142.63</td>\n",
              "      <td>1.21</td>\n",
              "      <td>0.0028</td>\n",
              "      <td>0.0035</td>\n",
              "    </tr>\n",
              "    <tr>\n",
              "      <th>3</th>\n",
              "      <td>Adelante</td>\n",
              "      <td>adelante4.mp4</td>\n",
              "      <td>30.0</td>\n",
              "      <td>3.90</td>\n",
              "      <td>1080x1908</td>\n",
              "      <td>117</td>\n",
              "      <td>147.12</td>\n",
              "      <td>1.69</td>\n",
              "      <td>0.0023</td>\n",
              "      <td>0.0031</td>\n",
              "    </tr>\n",
              "    <tr>\n",
              "      <th>4</th>\n",
              "      <td>Adelante</td>\n",
              "      <td>adelante5.mp4</td>\n",
              "      <td>30.0</td>\n",
              "      <td>3.70</td>\n",
              "      <td>1080x1908</td>\n",
              "      <td>111</td>\n",
              "      <td>140.79</td>\n",
              "      <td>1.34</td>\n",
              "      <td>0.0019</td>\n",
              "      <td>0.0039</td>\n",
              "    </tr>\n",
              "  </tbody>\n",
              "</table>\n",
              "</div>\n",
              "    <div class=\"colab-df-buttons\">\n",
              "\n",
              "  <div class=\"colab-df-container\">\n",
              "    <button class=\"colab-df-convert\" onclick=\"convertToInteractive('df-30a035bf-4ab1-4f11-a156-34eba8de79ec')\"\n",
              "            title=\"Convert this dataframe to an interactive table.\"\n",
              "            style=\"display:none;\">\n",
              "\n",
              "  <svg xmlns=\"http://www.w3.org/2000/svg\" height=\"24px\" viewBox=\"0 -960 960 960\">\n",
              "    <path d=\"M120-120v-720h720v720H120Zm60-500h600v-160H180v160Zm220 220h160v-160H400v160Zm0 220h160v-160H400v160ZM180-400h160v-160H180v160Zm440 0h160v-160H620v160ZM180-180h160v-160H180v160Zm440 0h160v-160H620v160Z\"/>\n",
              "  </svg>\n",
              "    </button>\n",
              "\n",
              "  <style>\n",
              "    .colab-df-container {\n",
              "      display:flex;\n",
              "      gap: 12px;\n",
              "    }\n",
              "\n",
              "    .colab-df-convert {\n",
              "      background-color: #E8F0FE;\n",
              "      border: none;\n",
              "      border-radius: 50%;\n",
              "      cursor: pointer;\n",
              "      display: none;\n",
              "      fill: #1967D2;\n",
              "      height: 32px;\n",
              "      padding: 0 0 0 0;\n",
              "      width: 32px;\n",
              "    }\n",
              "\n",
              "    .colab-df-convert:hover {\n",
              "      background-color: #E2EBFA;\n",
              "      box-shadow: 0px 1px 2px rgba(60, 64, 67, 0.3), 0px 1px 3px 1px rgba(60, 64, 67, 0.15);\n",
              "      fill: #174EA6;\n",
              "    }\n",
              "\n",
              "    .colab-df-buttons div {\n",
              "      margin-bottom: 4px;\n",
              "    }\n",
              "\n",
              "    [theme=dark] .colab-df-convert {\n",
              "      background-color: #3B4455;\n",
              "      fill: #D2E3FC;\n",
              "    }\n",
              "\n",
              "    [theme=dark] .colab-df-convert:hover {\n",
              "      background-color: #434B5C;\n",
              "      box-shadow: 0px 1px 3px 1px rgba(0, 0, 0, 0.15);\n",
              "      filter: drop-shadow(0px 1px 2px rgba(0, 0, 0, 0.3));\n",
              "      fill: #FFFFFF;\n",
              "    }\n",
              "  </style>\n",
              "\n",
              "    <script>\n",
              "      const buttonEl =\n",
              "        document.querySelector('#df-30a035bf-4ab1-4f11-a156-34eba8de79ec button.colab-df-convert');\n",
              "      buttonEl.style.display =\n",
              "        google.colab.kernel.accessAllowed ? 'block' : 'none';\n",
              "\n",
              "      async function convertToInteractive(key) {\n",
              "        const element = document.querySelector('#df-30a035bf-4ab1-4f11-a156-34eba8de79ec');\n",
              "        const dataTable =\n",
              "          await google.colab.kernel.invokeFunction('convertToInteractive',\n",
              "                                                    [key], {});\n",
              "        if (!dataTable) return;\n",
              "\n",
              "        const docLinkHtml = 'Like what you see? Visit the ' +\n",
              "          '<a target=\"_blank\" href=https://colab.research.google.com/notebooks/data_table.ipynb>data table notebook</a>'\n",
              "          + ' to learn more about interactive tables.';\n",
              "        element.innerHTML = '';\n",
              "        dataTable['output_type'] = 'display_data';\n",
              "        await google.colab.output.renderOutput(dataTable, element);\n",
              "        const docLink = document.createElement('div');\n",
              "        docLink.innerHTML = docLinkHtml;\n",
              "        element.appendChild(docLink);\n",
              "      }\n",
              "    </script>\n",
              "  </div>\n",
              "\n",
              "\n",
              "    <div id=\"df-ff50a229-b5c7-4751-9723-1b68bb6248bd\">\n",
              "      <button class=\"colab-df-quickchart\" onclick=\"quickchart('df-ff50a229-b5c7-4751-9723-1b68bb6248bd')\"\n",
              "                title=\"Suggest charts\"\n",
              "                style=\"display:none;\">\n",
              "\n",
              "<svg xmlns=\"http://www.w3.org/2000/svg\" height=\"24px\"viewBox=\"0 0 24 24\"\n",
              "     width=\"24px\">\n",
              "    <g>\n",
              "        <path d=\"M19 3H5c-1.1 0-2 .9-2 2v14c0 1.1.9 2 2 2h14c1.1 0 2-.9 2-2V5c0-1.1-.9-2-2-2zM9 17H7v-7h2v7zm4 0h-2V7h2v10zm4 0h-2v-4h2v4z\"/>\n",
              "    </g>\n",
              "</svg>\n",
              "      </button>\n",
              "\n",
              "<style>\n",
              "  .colab-df-quickchart {\n",
              "      --bg-color: #E8F0FE;\n",
              "      --fill-color: #1967D2;\n",
              "      --hover-bg-color: #E2EBFA;\n",
              "      --hover-fill-color: #174EA6;\n",
              "      --disabled-fill-color: #AAA;\n",
              "      --disabled-bg-color: #DDD;\n",
              "  }\n",
              "\n",
              "  [theme=dark] .colab-df-quickchart {\n",
              "      --bg-color: #3B4455;\n",
              "      --fill-color: #D2E3FC;\n",
              "      --hover-bg-color: #434B5C;\n",
              "      --hover-fill-color: #FFFFFF;\n",
              "      --disabled-bg-color: #3B4455;\n",
              "      --disabled-fill-color: #666;\n",
              "  }\n",
              "\n",
              "  .colab-df-quickchart {\n",
              "    background-color: var(--bg-color);\n",
              "    border: none;\n",
              "    border-radius: 50%;\n",
              "    cursor: pointer;\n",
              "    display: none;\n",
              "    fill: var(--fill-color);\n",
              "    height: 32px;\n",
              "    padding: 0;\n",
              "    width: 32px;\n",
              "  }\n",
              "\n",
              "  .colab-df-quickchart:hover {\n",
              "    background-color: var(--hover-bg-color);\n",
              "    box-shadow: 0 1px 2px rgba(60, 64, 67, 0.3), 0 1px 3px 1px rgba(60, 64, 67, 0.15);\n",
              "    fill: var(--button-hover-fill-color);\n",
              "  }\n",
              "\n",
              "  .colab-df-quickchart-complete:disabled,\n",
              "  .colab-df-quickchart-complete:disabled:hover {\n",
              "    background-color: var(--disabled-bg-color);\n",
              "    fill: var(--disabled-fill-color);\n",
              "    box-shadow: none;\n",
              "  }\n",
              "\n",
              "  .colab-df-spinner {\n",
              "    border: 2px solid var(--fill-color);\n",
              "    border-color: transparent;\n",
              "    border-bottom-color: var(--fill-color);\n",
              "    animation:\n",
              "      spin 1s steps(1) infinite;\n",
              "  }\n",
              "\n",
              "  @keyframes spin {\n",
              "    0% {\n",
              "      border-color: transparent;\n",
              "      border-bottom-color: var(--fill-color);\n",
              "      border-left-color: var(--fill-color);\n",
              "    }\n",
              "    20% {\n",
              "      border-color: transparent;\n",
              "      border-left-color: var(--fill-color);\n",
              "      border-top-color: var(--fill-color);\n",
              "    }\n",
              "    30% {\n",
              "      border-color: transparent;\n",
              "      border-left-color: var(--fill-color);\n",
              "      border-top-color: var(--fill-color);\n",
              "      border-right-color: var(--fill-color);\n",
              "    }\n",
              "    40% {\n",
              "      border-color: transparent;\n",
              "      border-right-color: var(--fill-color);\n",
              "      border-top-color: var(--fill-color);\n",
              "    }\n",
              "    60% {\n",
              "      border-color: transparent;\n",
              "      border-right-color: var(--fill-color);\n",
              "    }\n",
              "    80% {\n",
              "      border-color: transparent;\n",
              "      border-right-color: var(--fill-color);\n",
              "      border-bottom-color: var(--fill-color);\n",
              "    }\n",
              "    90% {\n",
              "      border-color: transparent;\n",
              "      border-bottom-color: var(--fill-color);\n",
              "    }\n",
              "  }\n",
              "</style>\n",
              "\n",
              "      <script>\n",
              "        async function quickchart(key) {\n",
              "          const quickchartButtonEl =\n",
              "            document.querySelector('#' + key + ' button');\n",
              "          quickchartButtonEl.disabled = true;  // To prevent multiple clicks.\n",
              "          quickchartButtonEl.classList.add('colab-df-spinner');\n",
              "          try {\n",
              "            const charts = await google.colab.kernel.invokeFunction(\n",
              "                'suggestCharts', [key], {});\n",
              "          } catch (error) {\n",
              "            console.error('Error during call to suggestCharts:', error);\n",
              "          }\n",
              "          quickchartButtonEl.classList.remove('colab-df-spinner');\n",
              "          quickchartButtonEl.classList.add('colab-df-quickchart-complete');\n",
              "        }\n",
              "        (() => {\n",
              "          let quickchartButtonEl =\n",
              "            document.querySelector('#df-ff50a229-b5c7-4751-9723-1b68bb6248bd button');\n",
              "          quickchartButtonEl.style.display =\n",
              "            google.colab.kernel.accessAllowed ? 'block' : 'none';\n",
              "        })();\n",
              "      </script>\n",
              "    </div>\n",
              "\n",
              "    </div>\n",
              "  </div>\n"
            ],
            "application/vnd.google.colaboratory.intrinsic+json": {
              "type": "dataframe",
              "summary": "{\n  \"name\": \"display(df\",\n  \"rows\": 5,\n  \"fields\": [\n    {\n      \"column\": \"categoria\",\n      \"properties\": {\n        \"dtype\": \"category\",\n        \"num_unique_values\": 1,\n        \"samples\": [\n          \"Adelante\"\n        ],\n        \"semantic_type\": \"\",\n        \"description\": \"\"\n      }\n    },\n    {\n      \"column\": \"video\",\n      \"properties\": {\n        \"dtype\": \"string\",\n        \"num_unique_values\": 5,\n        \"samples\": [\n          \"adelante2.mp4\"\n        ],\n        \"semantic_type\": \"\",\n        \"description\": \"\"\n      }\n    },\n    {\n      \"column\": \"fps\",\n      \"properties\": {\n        \"dtype\": \"number\",\n        \"std\": 0.0,\n        \"min\": 30.0,\n        \"max\": 30.0,\n        \"num_unique_values\": 1,\n        \"samples\": [\n          30.0\n        ],\n        \"semantic_type\": \"\",\n        \"description\": \"\"\n      }\n    },\n    {\n      \"column\": \"duracion_seg\",\n      \"properties\": {\n        \"dtype\": \"number\",\n        \"std\": 0.44314783086459986,\n        \"min\": 2.73,\n        \"max\": 3.9,\n        \"num_unique_values\": 4,\n        \"samples\": [\n          2.73\n        ],\n        \"semantic_type\": \"\",\n        \"description\": \"\"\n      }\n    },\n    {\n      \"column\": \"resolucion\",\n      \"properties\": {\n        \"dtype\": \"category\",\n        \"num_unique_values\": 1,\n        \"samples\": [\n          \"1080x1908\"\n        ],\n        \"semantic_type\": \"\",\n        \"description\": \"\"\n      }\n    },\n    {\n      \"column\": \"frames\",\n      \"properties\": {\n        \"dtype\": \"number\",\n        \"std\": 13,\n        \"min\": 82,\n        \"max\": 117,\n        \"num_unique_values\": 4,\n        \"samples\": [\n          82\n        ],\n        \"semantic_type\": \"\",\n        \"description\": \"\"\n      }\n    },\n    {\n      \"column\": \"brillo_promedio\",\n      \"properties\": {\n        \"dtype\": \"number\",\n        \"std\": 3.256389104514384,\n        \"min\": 139.24,\n        \"max\": 147.12,\n        \"num_unique_values\": 5,\n        \"samples\": [\n          139.24\n        ],\n        \"semantic_type\": \"\",\n        \"description\": \"\"\n      }\n    },\n    {\n      \"column\": \"movimiento_promedio\",\n      \"properties\": {\n        \"dtype\": \"number\",\n        \"std\": 0.24279621084357966,\n        \"min\": 1.21,\n        \"max\": 1.79,\n        \"num_unique_values\": 5,\n        \"samples\": [\n          1.79\n        ],\n        \"semantic_type\": \"\",\n        \"description\": \"\"\n      }\n    },\n    {\n      \"column\": \"velocidad_promedio\",\n      \"properties\": {\n        \"dtype\": \"number\",\n        \"std\": 0.0008532291603080617,\n        \"min\": 0.0015,\n        \"max\": 0.0037,\n        \"num_unique_values\": 5,\n        \"samples\": [\n          0.0037\n        ],\n        \"semantic_type\": \"\",\n        \"description\": \"\"\n      }\n    },\n    {\n      \"column\": \"inclinacion_promedio\",\n      \"properties\": {\n        \"dtype\": \"number\",\n        \"std\": 0.0005549774770204643,\n        \"min\": 0.0025,\n        \"max\": 0.0039,\n        \"num_unique_values\": 5,\n        \"samples\": [\n          0.0025\n        ],\n        \"semantic_type\": \"\",\n        \"description\": \"\"\n      }\n    }\n  ]\n}"
            }
          },
          "metadata": {}
        }
      ]
    },
    {
      "cell_type": "code",
      "source": [
        "sns.set(style=\"whitegrid\", palette=\"pastel\")\n",
        "\n",
        "# --- Duración promedio ---\n",
        "plt.figure(figsize=(8,4))\n",
        "sns.barplot(x=\"categoria\", y=\"duracion_seg\", data=df)\n",
        "plt.title(\"Duración promedio por categoría (segundos)\")\n",
        "plt.show()\n",
        "\n",
        "# --- FPS promedio ---\n",
        "plt.figure(figsize=(8,4))\n",
        "sns.barplot(x=\"categoria\", y=\"fps\", data=df)\n",
        "plt.title(\"FPS promedio por categoría\")\n",
        "plt.show()\n",
        "\n",
        "# --- Brillo promedio ---\n",
        "plt.figure(figsize=(8,4))\n",
        "sns.barplot(x=\"categoria\", y=\"brillo_promedio\", data=df, color=\"gold\")\n",
        "plt.title(\"Brillo promedio por categoría\")\n",
        "plt.show()\n",
        "\n",
        "# --- Movimiento promedio ---\n",
        "plt.figure(figsize=(8,4))\n",
        "sns.barplot(x=\"categoria\", y=\"movimiento_promedio\", data=df, color=\"lightblue\")\n",
        "plt.title(\"Movimiento promedio por categoría\")\n",
        "plt.show()\n",
        "\n",
        "# --- Velocidad e Inclinación ---\n",
        "fig, axes = plt.subplots(1, 2, figsize=(12,4))\n",
        "sns.barplot(x=\"categoria\", y=\"velocidad_promedio\", data=df, ax=axes[0], color=\"skyblue\")\n",
        "sns.barplot(x=\"categoria\", y=\"inclinacion_promedio\", data=df, ax=axes[1], color=\"orange\")\n",
        "axes[0].set_title(\"Velocidad promedio de cadera\")\n",
        "axes[1].set_title(\"Inclinación promedio de hombros\")\n",
        "plt.tight_layout()\n",
        "plt.show()\n"
      ],
      "metadata": {
        "id": "TvqlP4c2nN9x",
        "colab": {
          "base_uri": "https://localhost:8080/",
          "height": 1000
        },
        "outputId": "6d12fc6b-168e-4d70-82f9-e794b88fe735"
      },
      "execution_count": 7,
      "outputs": [
        {
          "output_type": "display_data",
          "data": {
            "text/plain": [
              "<Figure size 800x400 with 1 Axes>"
            ],
            "image/png": "[encoded data removed]"
          },
          "metadata": {}
        },
        {
          "output_type": "display_data",
          "data": {
            "text/plain": [
              "<Figure size 800x400 with 1 Axes>"
            ],
            "image/png": "[encoded data removed]"
          },
          "metadata": {}
        },
        {
          "output_type": "display_data",
          "data": {
            "text/plain": [
              "<Figure size 800x400 with 1 Axes>"
            ],
            "image/png": "[encoded data removed]"
          },
          "metadata": {}
        },
        {
          "output_type": "display_data",
          "data": {
            "text/plain": [
              "<Figure size 800x400 with 1 Axes>"
            ],
            "image/png": "[encoded data removed]"
          },
          "metadata": {}
        },
        {
          "output_type": "display_data",
          "data": {
            "text/plain": [
              "<Figure size 1200x400 with 2 Axes>"
            ],
            "image/png": "[encoded data removed]"
          },
          "metadata": {}
        }
      ]
    },
    {
      "cell_type": "code",
      "source": [
        "# Load the DataFrame with landmark data\n",
        "df = pd.read_csv(os.path.join(BASE_PATH, \"resultados\", \"analisis_videos_sin_landmarks.csv\"))\n",
        "\n",
        "display(df.describe())\n",
        "\n",
        "print(\"Observaciones:\")\n",
        "print(f\"- Promedio de FPS: {df['fps'].mean():.2f}\")\n",
        "print(f\"- Duración promedio: {df['duracion_seg'].mean():.2f} segundos\")\n",
        "print(f\"- Brillo promedio global: {df['brillo_promedio'].mean():.2f}\")\n",
        "print(f\"- Movimiento promedio global: {df['movimiento_promedio'].mean():.2f}\")\n",
        "print(f\"- Inclinación promedio: {df['inclinacion_promedio'].mean():.4f}\")"
      ],
      "metadata": {
        "colab": {
          "base_uri": "https://localhost:8080/",
          "height": 405
        },
        "id": "y4lmyawpDP8p",
        "outputId": "50e7f73a-128f-4810-8369-312aa39f4486"
      },
      "execution_count": 8,
      "outputs": [
        {
          "output_type": "display_data",
          "data": {
            "text/plain": [
              "        fps  duracion_seg      frames  brillo_promedio  movimiento_promedio  \\\n",
              "count  54.0     54.000000   54.000000        54.000000            54.000000   \n",
              "mean   30.0      3.313889   99.425926       143.598148             1.225741   \n",
              "std     0.0      0.858798   25.745197         3.939072             0.584390   \n",
              "min    30.0      2.070000   62.000000       135.290000             0.370000   \n",
              "25%    30.0      2.700000   81.000000       141.282500             0.502500   \n",
              "50%    30.0      3.100000   93.000000       143.195000             1.405000   \n",
              "75%    30.0      3.797500  114.000000       147.275000             1.717500   \n",
              "max    30.0      5.870000  176.000000       149.150000             2.100000   \n",
              "\n",
              "       velocidad_promedio  inclinacion_promedio  \n",
              "count           54.000000             54.000000  \n",
              "mean             0.002348              0.004239  \n",
              "std              0.000871              0.001924  \n",
              "min              0.001000              0.000900  \n",
              "25%              0.001525              0.002800  \n",
              "50%              0.002300              0.003900  \n",
              "75%              0.003000              0.005625  \n",
              "max              0.004000              0.009100  "
            ],
            "text/html": [
              "\n",
              "  <div id=\"df-8805cd6b-2644-40c2-952d-c388084334e7\" class=\"colab-df-container\">\n",
              "    <div>\n",
              "<style scoped>\n",
              "    .dataframe tbody tr th:only-of-type {\n",
              "        vertical-align: middle;\n",
              "    }\n",
              "\n",
              "    .dataframe tbody tr th {\n",
              "        vertical-align: top;\n",
              "    }\n",
              "\n",
              "    .dataframe thead th {\n",
              "        text-align: right;\n",
              "    }\n",
              "</style>\n",
              "<table border=\"1\" class=\"dataframe\">\n",
              "  <thead>\n",
              "    <tr style=\"text-align: right;\">\n",
              "      <th></th>\n",
              "      <th>fps</th>\n",
              "      <th>duracion_seg</th>\n",
              "      <th>frames</th>\n",
              "      <th>brillo_promedio</th>\n",
              "      <th>movimiento_promedio</th>\n",
              "      <th>velocidad_promedio</th>\n",
              "      <th>inclinacion_promedio</th>\n",
              "    </tr>\n",
              "  </thead>\n",
              "  <tbody>\n",
              "    <tr>\n",
              "      <th>count</th>\n",
              "      <td>54.0</td>\n",
              "      <td>54.000000</td>\n",
              "      <td>54.000000</td>\n",
              "      <td>54.000000</td>\n",
              "      <td>54.000000</td>\n",
              "      <td>54.000000</td>\n",
              "      <td>54.000000</td>\n",
              "    </tr>\n",
              "    <tr>\n",
              "      <th>mean</th>\n",
              "      <td>30.0</td>\n",
              "      <td>3.313889</td>\n",
              "      <td>99.425926</td>\n",
              "      <td>143.598148</td>\n",
              "      <td>1.225741</td>\n",
              "      <td>0.002348</td>\n",
              "      <td>0.004239</td>\n",
              "    </tr>\n",
              "    <tr>\n",
              "      <th>std</th>\n",
              "      <td>0.0</td>\n",
              "      <td>0.858798</td>\n",
              "      <td>25.745197</td>\n",
              "      <td>3.939072</td>\n",
              "      <td>0.584390</td>\n",
              "      <td>0.000871</td>\n",
              "      <td>0.001924</td>\n",
              "    </tr>\n",
              "    <tr>\n",
              "      <th>min</th>\n",
              "      <td>30.0</td>\n",
              "      <td>2.070000</td>\n",
              "      <td>62.000000</td>\n",
              "      <td>135.290000</td>\n",
              "      <td>0.370000</td>\n",
              "      <td>0.001000</td>\n",
              "      <td>0.000900</td>\n",
              "    </tr>\n",
              "    <tr>\n",
              "      <th>25%</th>\n",
              "      <td>30.0</td>\n",
              "      <td>2.700000</td>\n",
              "      <td>81.000000</td>\n",
              "      <td>141.282500</td>\n",
              "      <td>0.502500</td>\n",
              "      <td>0.001525</td>\n",
              "      <td>0.002800</td>\n",
              "    </tr>\n",
              "    <tr>\n",
              "      <th>50%</th>\n",
              "      <td>30.0</td>\n",
              "      <td>3.100000</td>\n",
              "      <td>93.000000</td>\n",
              "      <td>143.195000</td>\n",
              "      <td>1.405000</td>\n",
              "      <td>0.002300</td>\n",
              "      <td>0.003900</td>\n",
              "    </tr>\n",
              "    <tr>\n",
              "      <th>75%</th>\n",
              "      <td>30.0</td>\n",
              "      <td>3.797500</td>\n",
              "      <td>114.000000</td>\n",
              "      <td>147.275000</td>\n",
              "      <td>1.717500</td>\n",
              "      <td>0.003000</td>\n",
              "      <td>0.005625</td>\n",
              "    </tr>\n",
              "    <tr>\n",
              "      <th>max</th>\n",
              "      <td>30.0</td>\n",
              "      <td>5.870000</td>\n",
              "      <td>176.000000</td>\n",
              "      <td>149.150000</td>\n",
              "      <td>2.100000</td>\n",
              "      <td>0.004000</td>\n",
              "      <td>0.009100</td>\n",
              "    </tr>\n",
              "  </tbody>\n",
              "</table>\n",
              "</div>\n",
              "    <div class=\"colab-df-buttons\">\n",
              "\n",
              "  <div class=\"colab-df-container\">\n",
              "    <button class=\"colab-df-convert\" onclick=\"convertToInteractive('df-8805cd6b-2644-40c2-952d-c388084334e7')\"\n",
              "            title=\"Convert this dataframe to an interactive table.\"\n",
              "            style=\"display:none;\">\n",
              "\n",
              "  <svg xmlns=\"http://www.w3.org/2000/svg\" height=\"24px\" viewBox=\"0 -960 960 960\">\n",
              "    <path d=\"M120-120v-720h720v720H120Zm60-500h600v-160H180v160Zm220 220h160v-160H400v160Zm0 220h160v-160H400v160ZM180-400h160v-160H180v160Zm440 0h160v-160H620v160ZM180-180h160v-160H180v160Zm440 0h160v-160H620v160Z\"/>\n",
              "  </svg>\n",
              "    </button>\n",
              "\n",
              "  <style>\n",
              "    .colab-df-container {\n",
              "      display:flex;\n",
              "      gap: 12px;\n",
              "    }\n",
              "\n",
              "    .colab-df-convert {\n",
              "      background-color: #E8F0FE;\n",
              "      border: none;\n",
              "      border-radius: 50%;\n",
              "      cursor: pointer;\n",
              "      display: none;\n",
              "      fill: #1967D2;\n",
              "      height: 32px;\n",
              "      padding: 0 0 0 0;\n",
              "      width: 32px;\n",
              "    }\n",
              "\n",
              "    .colab-df-convert:hover {\n",
              "      background-color: #E2EBFA;\n",
              "      box-shadow: 0px 1px 2px rgba(60, 64, 67, 0.3), 0px 1px 3px 1px rgba(60, 64, 67, 0.15);\n",
              "      fill: #174EA6;\n",
              "    }\n",
              "\n",
              "    .colab-df-buttons div {\n",
              "      margin-bottom: 4px;\n",
              "    }\n",
              "\n",
              "    [theme=dark] .colab-df-convert {\n",
              "      background-color: #3B4455;\n",
              "      fill: #D2E3FC;\n",
              "    }\n",
              "\n",
              "    [theme=dark] .colab-df-convert:hover {\n",
              "      background-color: #434B5C;\n",
              "      box-shadow: 0px 1px 3px 1px rgba(0, 0, 0, 0.15);\n",
              "      filter: drop-shadow(0px 1px 2px rgba(0, 0, 0, 0.3));\n",
              "      fill: #FFFFFF;\n",
              "    }\n",
              "  </style>\n",
              "\n",
              "    <script>\n",
              "      const buttonEl =\n",
              "        document.querySelector('#df-8805cd6b-2644-40c2-952d-c388084334e7 button.colab-df-convert');\n",
              "      buttonEl.style.display =\n",
              "        google.colab.kernel.accessAllowed ? 'block' : 'none';\n",
              "\n",
              "      async function convertToInteractive(key) {\n",
              "        const element = document.querySelector('#df-8805cd6b-2644-40c2-952d-c388084334e7');\n",
              "        const dataTable =\n",
              "          await google.colab.kernel.invokeFunction('convertToInteractive',\n",
              "                                                    [key], {});\n",
              "        if (!dataTable) return;\n",
              "\n",
              "        const docLinkHtml = 'Like what you see? Visit the ' +\n",
              "          '<a target=\"_blank\" href=https://colab.research.google.com/notebooks/data_table.ipynb>data table notebook</a>'\n",
              "          + ' to learn more about interactive tables.';\n",
              "        element.innerHTML = '';\n",
              "        dataTable['output_type'] = 'display_data';\n",
              "        await google.colab.output.renderOutput(dataTable, element);\n",
              "        const docLink = document.createElement('div');\n",
              "        docLink.innerHTML = docLinkHtml;\n",
              "        element.appendChild(docLink);\n",
              "      }\n",
              "    </script>\n",
              "  </div>\n",
              "\n",
              "\n",
              "    <div id=\"df-83511917-ee6d-4910-a67f-36593904792c\">\n",
              "      <button class=\"colab-df-quickchart\" onclick=\"quickchart('df-83511917-ee6d-4910-a67f-36593904792c')\"\n",
              "                title=\"Suggest charts\"\n",
              "                style=\"display:none;\">\n",
              "\n",
              "<svg xmlns=\"http://www.w3.org/2000/svg\" height=\"24px\"viewBox=\"0 0 24 24\"\n",
              "     width=\"24px\">\n",
              "    <g>\n",
              "        <path d=\"M19 3H5c-1.1 0-2 .9-2 2v14c0 1.1.9 2 2 2h14c1.1 0 2-.9 2-2V5c0-1.1-.9-2-2-2zM9 17H7v-7h2v7zm4 0h-2V7h2v10zm4 0h-2v-4h2v4z\"/>\n",
              "    </g>\n",
              "</svg>\n",
              "      </button>\n",
              "\n",
              "<style>\n",
              "  .colab-df-quickchart {\n",
              "      --bg-color: #E8F0FE;\n",
              "      --fill-color: #1967D2;\n",
              "      --hover-bg-color: #E2EBFA;\n",
              "      --hover-fill-color: #174EA6;\n",
              "      --disabled-fill-color: #AAA;\n",
              "      --disabled-bg-color: #DDD;\n",
              "  }\n",
              "\n",
              "  [theme=dark] .colab-df-quickchart {\n",
              "      --bg-color: #3B4455;\n",
              "      --fill-color: #D2E3FC;\n",
              "      --hover-bg-color: #434B5C;\n",
              "      --hover-fill-color: #FFFFFF;\n",
              "      --disabled-bg-color: #3B4455;\n",
              "      --disabled-fill-color: #666;\n",
              "  }\n",
              "\n",
              "  .colab-df-quickchart {\n",
              "    background-color: var(--bg-color);\n",
              "    border: none;\n",
              "    border-radius: 50%;\n",
              "    cursor: pointer;\n",
              "    display: none;\n",
              "    fill: var(--fill-color);\n",
              "    height: 32px;\n",
              "    padding: 0;\n",
              "    width: 32px;\n",
              "  }\n",
              "\n",
              "  .colab-df-quickchart:hover {\n",
              "    background-color: var(--hover-bg-color);\n",
              "    box-shadow: 0 1px 2px rgba(60, 64, 67, 0.3), 0 1px 3px 1px rgba(60, 64, 67, 0.15);\n",
              "    fill: var(--button-hover-fill-color);\n",
              "  }\n",
              "\n",
              "  .colab-df-quickchart-complete:disabled,\n",
              "  .colab-df-quickchart-complete:disabled:hover {\n",
              "    background-color: var(--disabled-bg-color);\n",
              "    fill: var(--disabled-fill-color);\n",
              "    box-shadow: none;\n",
              "  }\n",
              "\n",
              "  .colab-df-spinner {\n",
              "    border: 2px solid var(--fill-color);\n",
              "    border-color: transparent;\n",
              "    border-bottom-color: var(--fill-color);\n",
              "    animation:\n",
              "      spin 1s steps(1) infinite;\n",
              "  }\n",
              "\n",
              "  @keyframes spin {\n",
              "    0% {\n",
              "      border-color: transparent;\n",
              "      border-bottom-color: var(--fill-color);\n",
              "      border-left-color: var(--fill-color);\n",
              "    }\n",
              "    20% {\n",
              "      border-color: transparent;\n",
              "      border-left-color: var(--fill-color);\n",
              "      border-top-color: var(--fill-color);\n",
              "    }\n",
              "    30% {\n",
              "      border-color: transparent;\n",
              "      border-left-color: var(--fill-color);\n",
              "      border-top-color: var(--fill-color);\n",
              "      border-right-color: var(--fill-color);\n",
              "    }\n",
              "    40% {\n",
              "      border-color: transparent;\n",
              "      border-right-color: var(--fill-color);\n",
              "      border-top-color: var(--fill-color);\n",
              "    }\n",
              "    60% {\n",
              "      border-color: transparent;\n",
              "      border-right-color: var(--fill-color);\n",
              "    }\n",
              "    80% {\n",
              "      border-color: transparent;\n",
              "      border-right-color: var(--fill-color);\n",
              "      border-bottom-color: var(--fill-color);\n",
              "    }\n",
              "    90% {\n",
              "      border-color: transparent;\n",
              "      border-bottom-color: var(--fill-color);\n",
              "    }\n",
              "  }\n",
              "</style>\n",
              "\n",
              "      <script>\n",
              "        async function quickchart(key) {\n",
              "          const quickchartButtonEl =\n",
              "            document.querySelector('#' + key + ' button');\n",
              "          quickchartButtonEl.disabled = true;  // To prevent multiple clicks.\n",
              "          quickchartButtonEl.classList.add('colab-df-spinner');\n",
              "          try {\n",
              "            const charts = await google.colab.kernel.invokeFunction(\n",
              "                'suggestCharts', [key], {});\n",
              "          } catch (error) {\n",
              "            console.error('Error during call to suggestCharts:', error);\n",
              "          }\n",
              "          quickchartButtonEl.classList.remove('colab-df-spinner');\n",
              "          quickchartButtonEl.classList.add('colab-df-quickchart-complete');\n",
              "        }\n",
              "        (() => {\n",
              "          let quickchartButtonEl =\n",
              "            document.querySelector('#df-83511917-ee6d-4910-a67f-36593904792c button');\n",
              "          quickchartButtonEl.style.display =\n",
              "            google.colab.kernel.accessAllowed ? 'block' : 'none';\n",
              "        })();\n",
              "      </script>\n",
              "    </div>\n",
              "\n",
              "    </div>\n",
              "  </div>\n"
            ],
            "application/vnd.google.colaboratory.intrinsic+json": {
              "type": "dataframe",
              "summary": "{\n  \"name\": \"print(f\\\"- Inclinaci\\u00f3n promedio: {df['inclinacion_promedio']\",\n  \"rows\": 8,\n  \"fields\": [\n    {\n      \"column\": \"fps\",\n      \"properties\": {\n        \"dtype\": \"number\",\n        \"std\": 14.498768420603376,\n        \"min\": 0.0,\n        \"max\": 54.0,\n        \"num_unique_values\": 3,\n        \"samples\": [\n          54.0,\n          30.0,\n          0.0\n        ],\n        \"semantic_type\": \"\",\n        \"description\": \"\"\n      }\n    },\n    {\n      \"column\": \"duracion_seg\",\n      \"properties\": {\n        \"dtype\": \"number\",\n        \"std\": 18.052614189624457,\n        \"min\": 0.8587977921482692,\n        \"max\": 54.0,\n        \"num_unique_values\": 8,\n        \"samples\": [\n          3.3138888888888887,\n          3.0999999999999996,\n          54.0\n        ],\n        \"semantic_type\": \"\",\n        \"description\": \"\"\n      }\n    },\n    {\n      \"column\": \"frames\",\n      \"properties\": {\n        \"dtype\": \"number\",\n        \"std\": 45.24858458600627,\n        \"min\": 25.745196915557365,\n        \"max\": 176.0,\n        \"num_unique_values\": 8,\n        \"samples\": [\n          99.42592592592592,\n          93.0,\n          54.0\n        ],\n        \"semantic_type\": \"\",\n        \"description\": \"\"\n      }\n    },\n    {\n      \"column\": \"brillo_promedio\",\n      \"properties\": {\n        \"dtype\": \"number\",\n        \"std\": 54.74362275053157,\n        \"min\": 3.9390718541272713,\n        \"max\": 149.15,\n        \"num_unique_values\": 8,\n        \"samples\": [\n          143.59814814814814,\n          143.195,\n          54.0\n        ],\n        \"semantic_type\": \"\",\n        \"description\": \"\"\n      }\n    },\n    {\n      \"column\": \"movimiento_promedio\",\n      \"properties\": {\n        \"dtype\": \"number\",\n        \"std\": 18.702698573919005,\n        \"min\": 0.37,\n        \"max\": 54.0,\n        \"num_unique_values\": 8,\n        \"samples\": [\n          1.2257407407407408,\n          1.4049999999999998,\n          54.0\n        ],\n        \"semantic_type\": \"\",\n        \"description\": \"\"\n      }\n    },\n    {\n      \"column\": \"velocidad_promedio\",\n      \"properties\": {\n        \"dtype\": \"number\",\n        \"std\": 19.091123283279792,\n        \"min\": 0.0008708574695982097,\n        \"max\": 54.0,\n        \"num_unique_values\": 8,\n        \"samples\": [\n          0.0023481481481481483,\n          0.0023,\n          54.0\n        ],\n        \"semantic_type\": \"\",\n        \"description\": \"\"\n      }\n    },\n    {\n      \"column\": \"inclinacion_promedio\",\n      \"properties\": {\n        \"dtype\": \"number\",\n        \"std\": 19.09044438772923,\n        \"min\": 0.0009,\n        \"max\": 54.0,\n        \"num_unique_values\": 8,\n        \"samples\": [\n          0.00423888888888889,\n          0.0039,\n          54.0\n        ],\n        \"semantic_type\": \"\",\n        \"description\": \"\"\n      }\n    }\n  ]\n}"
            }
          },
          "metadata": {}
        },
        {
          "output_type": "stream",
          "name": "stdout",
          "text": [
            "Observaciones:\n",
            "- Promedio de FPS: 30.00\n",
            "- Duración promedio: 3.31 segundos\n",
            "- Brillo promedio global: 143.60\n",
            "- Movimiento promedio global: 1.23\n",
            "- Inclinación promedio: 0.0042\n"
          ]
        }
      ]
    },
    {
      "cell_type": "markdown",
      "source": [
        "### Fase 2: Con landmarks (MediaPipe)"
      ],
      "metadata": {
        "id": "NBPWOkJvzyOB"
      }
    },
    {
      "cell_type": "code",
      "source": [
        "mp_pose = mp.solutions.pose\n",
        "pose = mp_pose.Pose(static_image_mode=False, min_detection_confidence=0.5)\n",
        "drawing = mp.solutions.drawing_utils"
      ],
      "metadata": {
        "id": "LDIYSgH9pb7b"
      },
      "execution_count": 9,
      "outputs": []
    },
    {
      "cell_type": "code",
      "source": [
        "from google.colab import drive\n",
        "drive.mount('/content/drive')\n",
        "\n",
        "BASE_PATH = \"/content/drive/MyDrive/APO3_EntregaFinal/Entrega1\"\n",
        "VIDEOS_PATH = os.path.join(BASE_PATH, \"videos\")\n",
        "PROCESADOS_PATH = os.path.join(BASE_PATH, \"procesados\")\n",
        "LANDMARKS_PATH = os.path.join(BASE_PATH, \"landmarks\")\n",
        "\n",
        "for p in [PROCESADOS_PATH, LANDMARKS_PATH]:\n",
        "    os.makedirs(p, exist_ok=True)\n",
        "\n",
        "# Crear subcarpetas dentro de \"procesados\"\n",
        "for categoria in [\"Adelante\", \"Atras\", \"Sentado\"]:\n",
        "    os.makedirs(os.path.join(PROCESADOS_PATH, categoria), exist_ok=True)"
      ],
      "metadata": {
        "colab": {
          "base_uri": "https://localhost:8080/"
        },
        "id": "iJAEeMECz3we",
        "outputId": "055b9cc4-14b1-43b4-b54c-6a6a2712524e"
      },
      "execution_count": 11,
      "outputs": [
        {
          "output_type": "stream",
          "name": "stdout",
          "text": [
            "Drive already mounted at /content/drive; to attempt to forcibly remount, call drive.mount(\"/content/drive\", force_remount=True).\n"
          ]
        }
      ]
    },
    {
      "cell_type": "code",
      "source": [
        "mp_pose = mp.solutions.pose\n",
        "pose = mp_pose.Pose(static_image_mode=False, min_detection_confidence=0.5)\n",
        "drawing = mp.solutions.drawing_utils\n",
        "\n",
        "def calcular_angulo(a, b, c):\n",
        "    \"\"\"Calcula el ángulo entre tres puntos (a, b, c).\"\"\"\n",
        "    a, b, c = np.array(a), np.array(b), np.array(c)\n",
        "    ba, bc = a - b, c - b\n",
        "    coseno = np.dot(ba, bc) / (np.linalg.norm(ba) * np.linalg.norm(bc) + 1e-6)\n",
        "    angulo = np.degrees(np.arccos(np.clip(coseno, -1.0, 1.0)))\n",
        "    return angulo\n"
      ],
      "metadata": {
        "id": "DiCnTGef0TjS"
      },
      "execution_count": 14,
      "outputs": []
    },
    {
      "cell_type": "code",
      "source": [
        "def procesar_video_pose(video_path, output_path):\n",
        "    cap = cv2.VideoCapture(video_path)\n",
        "\n",
        "    # Configurar salida\n",
        "    fourcc = cv2.VideoWriter_fourcc(*'mp4v')\n",
        "    fps = cap.get(cv2.CAP_PROP_FPS)\n",
        "    width = int(cap.get(cv2.CAP_PROP_FRAME_WIDTH))\n",
        "    height = int(cap.get(cv2.CAP_PROP_FRAME_HEIGHT))\n",
        "    out = cv2.VideoWriter(output_path, fourcc, fps, (width, height))\n",
        "\n",
        "    with mp_pose.Pose(static_image_mode=False,\n",
        "                      min_detection_confidence=0.5,\n",
        "                      model_complexity=2) as pose:\n",
        "        while cap.isOpened():\n",
        "            ret, frame = cap.read()\n",
        "            if not ret:\n",
        "                break\n",
        "\n",
        "            # Procesar el frame\n",
        "            image_rgb = cv2.cvtColor(frame, cv2.COLOR_BGR2RGB)\n",
        "            results = pose.process(image_rgb)\n",
        "\n",
        "            # Dibujar landmarks\n",
        "            if results.pose_landmarks:\n",
        "                drawing.draw_landmarks(\n",
        "                    frame,\n",
        "                    results.pose_landmarks,\n",
        "                    mp_pose.POSE_CONNECTIONS,\n",
        "                    drawing.DrawingSpec(color=(0, 255, 0), thickness=2, circle_radius=2),\n",
        "                    drawing.DrawingSpec(color=(255, 255, 255), thickness=2)\n",
        "                )\n",
        "\n",
        "            out.write(frame)\n",
        "\n",
        "    cap.release()\n",
        "    out.release()\n",
        "\n",
        "# --- Procesar todas las subcarpetas ---\n",
        "categorias = [\"Adelante\", \"Atras\", \"Sentado\"]\n",
        "\n",
        "for categoria in categorias:\n",
        "    carpeta = os.path.join(VIDEOS_PATH, categoria)\n",
        "    procesados_sub = os.path.join(PROCESADOS_PATH, categoria)\n",
        "    videos = [f for f in os.listdir(carpeta) if f.endswith(('.mp4', '.avi', '.mov'))]\n",
        "\n",
        "    print(f\"\\n Procesando categoría '{categoria}' ({len(videos)} videos)...\")\n",
        "    for v in tqdm(videos):\n",
        "        input_path = os.path.join(carpeta, v)\n",
        "        output_path = os.path.join(procesados_sub, v)  # guarda con el mismo nombre\n",
        "        procesar_video_pose(input_path, output_path)\n",
        "\n",
        "print(\"\\n Todos los videos fueron procesados y guardados con pose overlay.\")"
      ],
      "metadata": {
        "colab": {
          "base_uri": "https://localhost:8080/"
        },
        "id": "_H7_XxO5UJou",
        "outputId": "94813195-726e-4502-ebb2-4a76b1425796"
      },
      "execution_count": 13,
      "outputs": [
        {
          "output_type": "stream",
          "name": "stdout",
          "text": [
            "\n",
            " Procesando categoría 'Adelante' (18 videos)...\n"
          ]
        },
        {
          "output_type": "stream",
          "name": "stderr",
          "text": [
            "\r  0%|          | 0/18 [00:00<?, ?it/s]"
          ]
        },
        {
          "output_type": "stream",
          "name": "stdout",
          "text": [
            "Downloading model to /usr/local/lib/python3.12/dist-packages/mediapipe/modules/pose_landmark/pose_landmark_heavy.tflite\n"
          ]
        },
        {
          "output_type": "stream",
          "name": "stderr",
          "text": [
            "100%|██████████| 18/18 [04:52<00:00, 16.24s/it]\n"
          ]
        },
        {
          "output_type": "stream",
          "name": "stdout",
          "text": [
            "\n",
            " Procesando categoría 'Atras' (18 videos)...\n"
          ]
        },
        {
          "output_type": "stream",
          "name": "stderr",
          "text": [
            "100%|██████████| 18/18 [03:46<00:00, 12.58s/it]\n"
          ]
        },
        {
          "output_type": "stream",
          "name": "stdout",
          "text": [
            "\n",
            " Procesando categoría 'Sentado' (18 videos)...\n"
          ]
        },
        {
          "output_type": "stream",
          "name": "stderr",
          "text": [
            "100%|██████████| 18/18 [05:27<00:00, 18.21s/it]"
          ]
        },
        {
          "output_type": "stream",
          "name": "stdout",
          "text": [
            "\n",
            " Todos los videos fueron procesados y guardados con pose overlay.\n"
          ]
        },
        {
          "output_type": "stream",
          "name": "stderr",
          "text": [
            "\n"
          ]
        }
      ]
    },
    {
      "cell_type": "code",
      "source": [
        "def procesar_video(video_path, categoria, save_landmarks=True):\n",
        "    cap = cv2.VideoCapture(video_path)\n",
        "    if not cap.isOpened():\n",
        "        return None\n",
        "\n",
        "    fps = cap.get(cv2.CAP_PROP_FPS)\n",
        "    width  = int(cap.get(cv2.CAP_PROP_FRAME_WIDTH))\n",
        "    height = int(cap.get(cv2.CAP_PROP_FRAME_HEIGHT))\n",
        "    frames = int(cap.get(cv2.CAP_PROP_FRAME_COUNT))\n",
        "    duracion = frames / fps if fps > 0 else 0\n",
        "\n",
        "    total_brillo, total_mov, total_vel, total_incl, total_ang = 0, 0, 0, 0, 0\n",
        "    frame_idx = 0\n",
        "    landmarks_data = []\n",
        "    prev_gray, prev_hip = None, None\n",
        "\n",
        "    while True:\n",
        "        ret, frame = cap.read()\n",
        "        if not ret:\n",
        "            break\n",
        "\n",
        "        gray = cv2.cvtColor(frame, cv2.COLOR_BGR2GRAY)\n",
        "        total_brillo += np.mean(gray)\n",
        "\n",
        "        if prev_gray is not None:\n",
        "            total_mov += np.mean(cv2.absdiff(prev_gray, gray))\n",
        "        prev_gray = gray\n",
        "\n",
        "        results = pose.process(cv2.cvtColor(frame, cv2.COLOR_BGR2RGB))\n",
        "        if results.pose_landmarks:\n",
        "            lm = results.pose_landmarks.landmark\n",
        "\n",
        "            # Coordenadas principales\n",
        "            l_shoulder, r_shoulder = (lm[11].x, lm[11].y), (lm[12].x, lm[12].y)\n",
        "            l_hip, r_hip = (lm[23].x, lm[23].y), (lm[24].x, lm[24].y)\n",
        "            l_knee, l_ankle = (lm[25].x, lm[25].y), (lm[27].x, lm[27].y)\n",
        "\n",
        "            # Inclinación hombros\n",
        "            total_incl += abs(l_shoulder[1] - r_shoulder[1])\n",
        "\n",
        "            # Ángulo de rodilla\n",
        "            total_ang += calcular_angulo(l_hip, l_knee, l_ankle)\n",
        "\n",
        "            # Velocidad de cadera\n",
        "            hip_center = np.mean([l_hip, r_hip], axis=0)\n",
        "            if prev_hip is not None:\n",
        "                total_vel += np.linalg.norm(hip_center - prev_hip)\n",
        "            prev_hip = hip_center\n",
        "\n",
        "            # Guardar landmarks\n",
        "            if save_landmarks:\n",
        "                row = [frame_idx]\n",
        "                for point in lm:\n",
        "                    row += [point.x, point.y, point.z, point.visibility]\n",
        "                landmarks_data.append(row)\n",
        "\n",
        "        frame_idx += 1\n",
        "\n",
        "    cap.release()\n",
        "\n",
        "    # Guardar landmarks CSV por video\n",
        "    if save_landmarks and landmarks_data:\n",
        "        cols = [\"frame_idx\"] + [f\"lm{i}_{c}\" for i in range(33) for c in [\"x\", \"y\", \"z\", \"v\"]]\n",
        "        df_landmarks = pd.DataFrame(landmarks_data, columns=cols)\n",
        "        output_csv = os.path.join(LANDMARKS_PATH, os.path.basename(video_path).replace('.mp4', '.csv'))\n",
        "        df_landmarks.to_csv(output_csv, index=False)\n",
        "\n",
        "    # Resultados promedio del video\n",
        "    return {\n",
        "        \"categoria\": categoria,\n",
        "        \"video\": os.path.basename(video_path),\n",
        "        \"fps\": round(fps, 2),\n",
        "        \"frames\": frames,\n",
        "        \"duracion_seg\": round(duracion, 2),\n",
        "        \"resolucion\": f\"{width}x{height}\",\n",
        "        \"brillo_promedio\": round(total_brillo / max(frame_idx, 1), 2),\n",
        "        \"movimiento_promedio\": round(total_mov / max(frame_idx, 1), 2),\n",
        "        \"velocidad_promedio\": round(total_vel / max(frame_idx, 1), 4),\n",
        "        \"angulo_rodilla_promedio\": round(total_ang / max(frame_idx, 1), 2),\n",
        "        \"inclinacion_promedio\": round(total_incl / max(frame_idx, 1), 4)\n",
        "    }"
      ],
      "metadata": {
        "id": "DdSY5vPD1Jx-"
      },
      "execution_count": 16,
      "outputs": []
    },
    {
      "cell_type": "code",
      "source": [
        "resultados = []\n",
        "categorias = [\"Adelante\", \"Atras\", \"Sentado\"]\n",
        "\n",
        "for categoria in categorias:\n",
        "    carpeta = os.path.join(PROCESADOS_PATH, categoria)\n",
        "    videos = [f for f in os.listdir(carpeta) if f.endswith(('.mp4', '.avi', '.mov'))]\n",
        "    print(f\"\\n Analizando categoría: {categoria} ({len(videos)} videos)\")\n",
        "\n",
        "    for v in tqdm(videos):\n",
        "        video_path = os.path.join(carpeta, v)\n",
        "        data = procesar_video(video_path, categoria)\n",
        "        if data:\n",
        "            resultados.append(data)"
      ],
      "metadata": {
        "colab": {
          "base_uri": "https://localhost:8080/"
        },
        "id": "Z50XBKje2CtN",
        "outputId": "2bcb92d0-d96c-4368-a42e-775dca0bd5ac"
      },
      "execution_count": 17,
      "outputs": [
        {
          "output_type": "stream",
          "name": "stdout",
          "text": [
            "\n",
            " Analizando categoría: Adelante (18 videos)\n"
          ]
        },
        {
          "output_type": "stream",
          "name": "stderr",
          "text": [
            "100%|██████████| 18/18 [01:42<00:00,  5.72s/it]\n"
          ]
        },
        {
          "output_type": "stream",
          "name": "stdout",
          "text": [
            "\n",
            " Analizando categoría: Atras (18 videos)\n"
          ]
        },
        {
          "output_type": "stream",
          "name": "stderr",
          "text": [
            "100%|██████████| 18/18 [01:21<00:00,  4.53s/it]\n"
          ]
        },
        {
          "output_type": "stream",
          "name": "stdout",
          "text": [
            "\n",
            " Analizando categoría: Sentado (18 videos)\n"
          ]
        },
        {
          "output_type": "stream",
          "name": "stderr",
          "text": [
            "100%|██████████| 18/18 [01:55<00:00,  6.40s/it]\n"
          ]
        }
      ]
    },
    {
      "cell_type": "code",
      "source": [
        "df = pd.DataFrame(resultados)\n",
        "csv_path = os.path.join(BASE_PATH, \"resultados\", \"analisis_videos_con_landmarks.csv\")\n",
        "df.to_csv(csv_path, index=False)\n",
        "print(f\"\\n Análisis completado. Resultados guardados en: {csv_path}\")\n",
        "display(df.head())"
      ],
      "metadata": {
        "colab": {
          "base_uri": "https://localhost:8080/",
          "height": 241
        },
        "id": "pHrNnYU1E1kG",
        "outputId": "9bde2395-9dd7-4335-8645-0616c09c92a8"
      },
      "execution_count": 18,
      "outputs": [
        {
          "output_type": "stream",
          "name": "stdout",
          "text": [
            "\n",
            " Análisis completado. Resultados guardados en: /content/drive/MyDrive/APO3_EntregaFinal/Entrega1/resultados/analisis_videos_con_landmarks.csv\n"
          ]
        },
        {
          "output_type": "display_data",
          "data": {
            "text/plain": [
              "  categoria          video   fps  frames  duracion_seg resolucion  \\\n",
              "0  Adelante  adelante1.mp4  30.0     102          3.40  1080x1908   \n",
              "1  Adelante  adelante2.mp4  30.0     102          3.40  1080x1908   \n",
              "2  Adelante  adelante3.mp4  30.0      82          2.73  1080x1908   \n",
              "3  Adelante  adelante4.mp4  30.0     117          3.90  1080x1908   \n",
              "4  Adelante  adelante5.mp4  30.0     111          3.70  1080x1908   \n",
              "\n",
              "   brillo_promedio  movimiento_promedio  velocidad_promedio  \\\n",
              "0           144.24                 1.94              0.0016   \n",
              "1           138.42                 2.92              0.0041   \n",
              "2           141.56                 1.89              0.0025   \n",
              "3           145.88                 2.28              0.0025   \n",
              "4           139.84                 2.12              0.0015   \n",
              "\n",
              "   angulo_rodilla_promedio  inclinacion_promedio  \n",
              "0                   175.73                0.0030  \n",
              "1                   173.48                0.0026  \n",
              "2                   173.91                0.0026  \n",
              "3                   172.16                0.0032  \n",
              "4                   171.20                0.0039  "
            ],
            "text/html": [
              "\n",
              "  <div id=\"df-51ea8bc7-17b4-495c-95a1-3e0cf110b184\" class=\"colab-df-container\">\n",
              "    <div>\n",
              "<style scoped>\n",
              "    .dataframe tbody tr th:only-of-type {\n",
              "        vertical-align: middle;\n",
              "    }\n",
              "\n",
              "    .dataframe tbody tr th {\n",
              "        vertical-align: top;\n",
              "    }\n",
              "\n",
              "    .dataframe thead th {\n",
              "        text-align: right;\n",
              "    }\n",
              "</style>\n",
              "<table border=\"1\" class=\"dataframe\">\n",
              "  <thead>\n",
              "    <tr style=\"text-align: right;\">\n",
              "      <th></th>\n",
              "      <th>categoria</th>\n",
              "      <th>video</th>\n",
              "      <th>fps</th>\n",
              "      <th>frames</th>\n",
              "      <th>duracion_seg</th>\n",
              "      <th>resolucion</th>\n",
              "      <th>brillo_promedio</th>\n",
              "      <th>movimiento_promedio</th>\n",
              "      <th>velocidad_promedio</th>\n",
              "      <th>angulo_rodilla_promedio</th>\n",
              "      <th>inclinacion_promedio</th>\n",
              "    </tr>\n",
              "  </thead>\n",
              "  <tbody>\n",
              "    <tr>\n",
              "      <th>0</th>\n",
              "      <td>Adelante</td>\n",
              "      <td>adelante1.mp4</td>\n",
              "      <td>30.0</td>\n",
              "      <td>102</td>\n",
              "      <td>3.40</td>\n",
              "      <td>1080x1908</td>\n",
              "      <td>144.24</td>\n",
              "      <td>1.94</td>\n",
              "      <td>0.0016</td>\n",
              "      <td>175.73</td>\n",
              "      <td>0.0030</td>\n",
              "    </tr>\n",
              "    <tr>\n",
              "      <th>1</th>\n",
              "      <td>Adelante</td>\n",
              "      <td>adelante2.mp4</td>\n",
              "      <td>30.0</td>\n",
              "      <td>102</td>\n",
              "      <td>3.40</td>\n",
              "      <td>1080x1908</td>\n",
              "      <td>138.42</td>\n",
              "      <td>2.92</td>\n",
              "      <td>0.0041</td>\n",
              "      <td>173.48</td>\n",
              "      <td>0.0026</td>\n",
              "    </tr>\n",
              "    <tr>\n",
              "      <th>2</th>\n",
              "      <td>Adelante</td>\n",
              "      <td>adelante3.mp4</td>\n",
              "      <td>30.0</td>\n",
              "      <td>82</td>\n",
              "      <td>2.73</td>\n",
              "      <td>1080x1908</td>\n",
              "      <td>141.56</td>\n",
              "      <td>1.89</td>\n",
              "      <td>0.0025</td>\n",
              "      <td>173.91</td>\n",
              "      <td>0.0026</td>\n",
              "    </tr>\n",
              "    <tr>\n",
              "      <th>3</th>\n",
              "      <td>Adelante</td>\n",
              "      <td>adelante4.mp4</td>\n",
              "      <td>30.0</td>\n",
              "      <td>117</td>\n",
              "      <td>3.90</td>\n",
              "      <td>1080x1908</td>\n",
              "      <td>145.88</td>\n",
              "      <td>2.28</td>\n",
              "      <td>0.0025</td>\n",
              "      <td>172.16</td>\n",
              "      <td>0.0032</td>\n",
              "    </tr>\n",
              "    <tr>\n",
              "      <th>4</th>\n",
              "      <td>Adelante</td>\n",
              "      <td>adelante5.mp4</td>\n",
              "      <td>30.0</td>\n",
              "      <td>111</td>\n",
              "      <td>3.70</td>\n",
              "      <td>1080x1908</td>\n",
              "      <td>139.84</td>\n",
              "      <td>2.12</td>\n",
              "      <td>0.0015</td>\n",
              "      <td>171.20</td>\n",
              "      <td>0.0039</td>\n",
              "    </tr>\n",
              "  </tbody>\n",
              "</table>\n",
              "</div>\n",
              "    <div class=\"colab-df-buttons\">\n",
              "\n",
              "  <div class=\"colab-df-container\">\n",
              "    <button class=\"colab-df-convert\" onclick=\"convertToInteractive('df-51ea8bc7-17b4-495c-95a1-3e0cf110b184')\"\n",
              "            title=\"Convert this dataframe to an interactive table.\"\n",
              "            style=\"display:none;\">\n",
              "\n",
              "  <svg xmlns=\"http://www.w3.org/2000/svg\" height=\"24px\" viewBox=\"0 -960 960 960\">\n",
              "    <path d=\"M120-120v-720h720v720H120Zm60-500h600v-160H180v160Zm220 220h160v-160H400v160Zm0 220h160v-160H400v160ZM180-400h160v-160H180v160Zm440 0h160v-160H620v160ZM180-180h160v-160H180v160Zm440 0h160v-160H620v160Z\"/>\n",
              "  </svg>\n",
              "    </button>\n",
              "\n",
              "  <style>\n",
              "    .colab-df-container {\n",
              "      display:flex;\n",
              "      gap: 12px;\n",
              "    }\n",
              "\n",
              "    .colab-df-convert {\n",
              "      background-color: #E8F0FE;\n",
              "      border: none;\n",
              "      border-radius: 50%;\n",
              "      cursor: pointer;\n",
              "      display: none;\n",
              "      fill: #1967D2;\n",
              "      height: 32px;\n",
              "      padding: 0 0 0 0;\n",
              "      width: 32px;\n",
              "    }\n",
              "\n",
              "    .colab-df-convert:hover {\n",
              "      background-color: #E2EBFA;\n",
              "      box-shadow: 0px 1px 2px rgba(60, 64, 67, 0.3), 0px 1px 3px 1px rgba(60, 64, 67, 0.15);\n",
              "      fill: #174EA6;\n",
              "    }\n",
              "\n",
              "    .colab-df-buttons div {\n",
              "      margin-bottom: 4px;\n",
              "    }\n",
              "\n",
              "    [theme=dark] .colab-df-convert {\n",
              "      background-color: #3B4455;\n",
              "      fill: #D2E3FC;\n",
              "    }\n",
              "\n",
              "    [theme=dark] .colab-df-convert:hover {\n",
              "      background-color: #434B5C;\n",
              "      box-shadow: 0px 1px 3px 1px rgba(0, 0, 0, 0.15);\n",
              "      filter: drop-shadow(0px 1px 2px rgba(0, 0, 0, 0.3));\n",
              "      fill: #FFFFFF;\n",
              "    }\n",
              "  </style>\n",
              "\n",
              "    <script>\n",
              "      const buttonEl =\n",
              "        document.querySelector('#df-51ea8bc7-17b4-495c-95a1-3e0cf110b184 button.colab-df-convert');\n",
              "      buttonEl.style.display =\n",
              "        google.colab.kernel.accessAllowed ? 'block' : 'none';\n",
              "\n",
              "      async function convertToInteractive(key) {\n",
              "        const element = document.querySelector('#df-51ea8bc7-17b4-495c-95a1-3e0cf110b184');\n",
              "        const dataTable =\n",
              "          await google.colab.kernel.invokeFunction('convertToInteractive',\n",
              "                                                    [key], {});\n",
              "        if (!dataTable) return;\n",
              "\n",
              "        const docLinkHtml = 'Like what you see? Visit the ' +\n",
              "          '<a target=\"_blank\" href=https://colab.research.google.com/notebooks/data_table.ipynb>data table notebook</a>'\n",
              "          + ' to learn more about interactive tables.';\n",
              "        element.innerHTML = '';\n",
              "        dataTable['output_type'] = 'display_data';\n",
              "        await google.colab.output.renderOutput(dataTable, element);\n",
              "        const docLink = document.createElement('div');\n",
              "        docLink.innerHTML = docLinkHtml;\n",
              "        element.appendChild(docLink);\n",
              "      }\n",
              "    </script>\n",
              "  </div>\n",
              "\n",
              "\n",
              "    <div id=\"df-58e79f18-5b76-45a7-8c88-34bc64d4f5ad\">\n",
              "      <button class=\"colab-df-quickchart\" onclick=\"quickchart('df-58e79f18-5b76-45a7-8c88-34bc64d4f5ad')\"\n",
              "                title=\"Suggest charts\"\n",
              "                style=\"display:none;\">\n",
              "\n",
              "<svg xmlns=\"http://www.w3.org/2000/svg\" height=\"24px\"viewBox=\"0 0 24 24\"\n",
              "     width=\"24px\">\n",
              "    <g>\n",
              "        <path d=\"M19 3H5c-1.1 0-2 .9-2 2v14c0 1.1.9 2 2 2h14c1.1 0 2-.9 2-2V5c0-1.1-.9-2-2-2zM9 17H7v-7h2v7zm4 0h-2V7h2v10zm4 0h-2v-4h2v4z\"/>\n",
              "    </g>\n",
              "</svg>\n",
              "      </button>\n",
              "\n",
              "<style>\n",
              "  .colab-df-quickchart {\n",
              "      --bg-color: #E8F0FE;\n",
              "      --fill-color: #1967D2;\n",
              "      --hover-bg-color: #E2EBFA;\n",
              "      --hover-fill-color: #174EA6;\n",
              "      --disabled-fill-color: #AAA;\n",
              "      --disabled-bg-color: #DDD;\n",
              "  }\n",
              "\n",
              "  [theme=dark] .colab-df-quickchart {\n",
              "      --bg-color: #3B4455;\n",
              "      --fill-color: #D2E3FC;\n",
              "      --hover-bg-color: #434B5C;\n",
              "      --hover-fill-color: #FFFFFF;\n",
              "      --disabled-bg-color: #3B4455;\n",
              "      --disabled-fill-color: #666;\n",
              "  }\n",
              "\n",
              "  .colab-df-quickchart {\n",
              "    background-color: var(--bg-color);\n",
              "    border: none;\n",
              "    border-radius: 50%;\n",
              "    cursor: pointer;\n",
              "    display: none;\n",
              "    fill: var(--fill-color);\n",
              "    height: 32px;\n",
              "    padding: 0;\n",
              "    width: 32px;\n",
              "  }\n",
              "\n",
              "  .colab-df-quickchart:hover {\n",
              "    background-color: var(--hover-bg-color);\n",
              "    box-shadow: 0 1px 2px rgba(60, 64, 67, 0.3), 0 1px 3px 1px rgba(60, 64, 67, 0.15);\n",
              "    fill: var(--button-hover-fill-color);\n",
              "  }\n",
              "\n",
              "  .colab-df-quickchart-complete:disabled,\n",
              "  .colab-df-quickchart-complete:disabled:hover {\n",
              "    background-color: var(--disabled-bg-color);\n",
              "    fill: var(--disabled-fill-color);\n",
              "    box-shadow: none;\n",
              "  }\n",
              "\n",
              "  .colab-df-spinner {\n",
              "    border: 2px solid var(--fill-color);\n",
              "    border-color: transparent;\n",
              "    border-bottom-color: var(--fill-color);\n",
              "    animation:\n",
              "      spin 1s steps(1) infinite;\n",
              "  }\n",
              "\n",
              "  @keyframes spin {\n",
              "    0% {\n",
              "      border-color: transparent;\n",
              "      border-bottom-color: var(--fill-color);\n",
              "      border-left-color: var(--fill-color);\n",
              "    }\n",
              "    20% {\n",
              "      border-color: transparent;\n",
              "      border-left-color: var(--fill-color);\n",
              "      border-top-color: var(--fill-color);\n",
              "    }\n",
              "    30% {\n",
              "      border-color: transparent;\n",
              "      border-left-color: var(--fill-color);\n",
              "      border-top-color: var(--fill-color);\n",
              "      border-right-color: var(--fill-color);\n",
              "    }\n",
              "    40% {\n",
              "      border-color: transparent;\n",
              "      border-right-color: var(--fill-color);\n",
              "      border-top-color: var(--fill-color);\n",
              "    }\n",
              "    60% {\n",
              "      border-color: transparent;\n",
              "      border-right-color: var(--fill-color);\n",
              "    }\n",
              "    80% {\n",
              "      border-color: transparent;\n",
              "      border-right-color: var(--fill-color);\n",
              "      border-bottom-color: var(--fill-color);\n",
              "    }\n",
              "    90% {\n",
              "      border-color: transparent;\n",
              "      border-bottom-color: var(--fill-color);\n",
              "    }\n",
              "  }\n",
              "</style>\n",
              "\n",
              "      <script>\n",
              "        async function quickchart(key) {\n",
              "          const quickchartButtonEl =\n",
              "            document.querySelector('#' + key + ' button');\n",
              "          quickchartButtonEl.disabled = true;  // To prevent multiple clicks.\n",
              "          quickchartButtonEl.classList.add('colab-df-spinner');\n",
              "          try {\n",
              "            const charts = await google.colab.kernel.invokeFunction(\n",
              "                'suggestCharts', [key], {});\n",
              "          } catch (error) {\n",
              "            console.error('Error during call to suggestCharts:', error);\n",
              "          }\n",
              "          quickchartButtonEl.classList.remove('colab-df-spinner');\n",
              "          quickchartButtonEl.classList.add('colab-df-quickchart-complete');\n",
              "        }\n",
              "        (() => {\n",
              "          let quickchartButtonEl =\n",
              "            document.querySelector('#df-58e79f18-5b76-45a7-8c88-34bc64d4f5ad button');\n",
              "          quickchartButtonEl.style.display =\n",
              "            google.colab.kernel.accessAllowed ? 'block' : 'none';\n",
              "        })();\n",
              "      </script>\n",
              "    </div>\n",
              "\n",
              "    </div>\n",
              "  </div>\n"
            ],
            "application/vnd.google.colaboratory.intrinsic+json": {
              "type": "dataframe",
              "summary": "{\n  \"name\": \"display(df\",\n  \"rows\": 5,\n  \"fields\": [\n    {\n      \"column\": \"categoria\",\n      \"properties\": {\n        \"dtype\": \"category\",\n        \"num_unique_values\": 1,\n        \"samples\": [\n          \"Adelante\"\n        ],\n        \"semantic_type\": \"\",\n        \"description\": \"\"\n      }\n    },\n    {\n      \"column\": \"video\",\n      \"properties\": {\n        \"dtype\": \"string\",\n        \"num_unique_values\": 5,\n        \"samples\": [\n          \"adelante2.mp4\"\n        ],\n        \"semantic_type\": \"\",\n        \"description\": \"\"\n      }\n    },\n    {\n      \"column\": \"fps\",\n      \"properties\": {\n        \"dtype\": \"number\",\n        \"std\": 0.0,\n        \"min\": 30.0,\n        \"max\": 30.0,\n        \"num_unique_values\": 1,\n        \"samples\": [\n          30.0\n        ],\n        \"semantic_type\": \"\",\n        \"description\": \"\"\n      }\n    },\n    {\n      \"column\": \"frames\",\n      \"properties\": {\n        \"dtype\": \"number\",\n        \"std\": 13,\n        \"min\": 82,\n        \"max\": 117,\n        \"num_unique_values\": 4,\n        \"samples\": [\n          82\n        ],\n        \"semantic_type\": \"\",\n        \"description\": \"\"\n      }\n    },\n    {\n      \"column\": \"duracion_seg\",\n      \"properties\": {\n        \"dtype\": \"number\",\n        \"std\": 0.44314783086459986,\n        \"min\": 2.73,\n        \"max\": 3.9,\n        \"num_unique_values\": 4,\n        \"samples\": [\n          2.73\n        ],\n        \"semantic_type\": \"\",\n        \"description\": \"\"\n      }\n    },\n    {\n      \"column\": \"resolucion\",\n      \"properties\": {\n        \"dtype\": \"category\",\n        \"num_unique_values\": 1,\n        \"samples\": [\n          \"1080x1908\"\n        ],\n        \"semantic_type\": \"\",\n        \"description\": \"\"\n      }\n    },\n    {\n      \"column\": \"brillo_promedio\",\n      \"properties\": {\n        \"dtype\": \"number\",\n        \"std\": 3.0719244782383597,\n        \"min\": 138.42,\n        \"max\": 145.88,\n        \"num_unique_values\": 5,\n        \"samples\": [\n          138.42\n        ],\n        \"semantic_type\": \"\",\n        \"description\": \"\"\n      }\n    },\n    {\n      \"column\": \"movimiento_promedio\",\n      \"properties\": {\n        \"dtype\": \"number\",\n        \"std\": 0.4154515615568197,\n        \"min\": 1.89,\n        \"max\": 2.92,\n        \"num_unique_values\": 5,\n        \"samples\": [\n          2.92\n        ],\n        \"semantic_type\": \"\",\n        \"description\": \"\"\n      }\n    },\n    {\n      \"column\": \"velocidad_promedio\",\n      \"properties\": {\n        \"dtype\": \"number\",\n        \"std\": 0.0010430723848324239,\n        \"min\": 0.0015,\n        \"max\": 0.0041,\n        \"num_unique_values\": 4,\n        \"samples\": [\n          0.0041\n        ],\n        \"semantic_type\": \"\",\n        \"description\": \"\"\n      }\n    },\n    {\n      \"column\": \"angulo_rodilla_promedio\",\n      \"properties\": {\n        \"dtype\": \"number\",\n        \"std\": 1.733415703171054,\n        \"min\": 171.2,\n        \"max\": 175.73,\n        \"num_unique_values\": 5,\n        \"samples\": [\n          173.48\n        ],\n        \"semantic_type\": \"\",\n        \"description\": \"\"\n      }\n    },\n    {\n      \"column\": \"inclinacion_promedio\",\n      \"properties\": {\n        \"dtype\": \"number\",\n        \"std\": 0.0005366563145999495,\n        \"min\": 0.0026,\n        \"max\": 0.0039,\n        \"num_unique_values\": 4,\n        \"samples\": [\n          0.0026\n        ],\n        \"semantic_type\": \"\",\n        \"description\": \"\"\n      }\n    }\n  ]\n}"
            }
          },
          "metadata": {}
        }
      ]
    },
    {
      "cell_type": "code",
      "source": [
        "sns.set(style=\"whitegrid\", palette=\"muted\")\n",
        "\n",
        "# --- Duración ---\n",
        "plt.figure(figsize=(8,4))\n",
        "sns.barplot(x=\"categoria\", y=\"duracion_seg\", data=df)\n",
        "plt.title(\"Duración promedio por categoría (segundos)\")\n",
        "plt.show()\n",
        "\n",
        "# --- FPS y Brillo ---\n",
        "fig, axes = plt.subplots(1,2, figsize=(12,4))\n",
        "sns.barplot(x=\"categoria\", y=\"fps\", data=df, ax=axes[0])\n",
        "sns.barplot(x=\"categoria\", y=\"brillo_promedio\", data=df, ax=axes[1], color=\"gold\")\n",
        "axes[0].set_title(\"FPS promedio por categoría\")\n",
        "axes[1].set_title(\"Brillo promedio por categoría\")\n",
        "plt.tight_layout()\n",
        "plt.show()\n",
        "\n",
        "# --- Movimiento, Velocidad, Inclinación y Ángulo ---\n",
        "fig, axes = plt.subplots(2,2, figsize=(12,8))\n",
        "sns.barplot(x=\"categoria\", y=\"movimiento_promedio\", data=df, ax=axes[0,0], color=\"skyblue\")\n",
        "sns.barplot(x=\"categoria\", y=\"velocidad_promedio\", data=df, ax=axes[0,1], color=\"lightgreen\")\n",
        "sns.barplot(x=\"categoria\", y=\"inclinacion_promedio\", data=df, ax=axes[1,0], color=\"orange\")\n",
        "sns.barplot(x=\"categoria\", y=\"angulo_rodilla_promedio\", data=df, ax=axes[1,1], color=\"coral\")\n",
        "\n",
        "axes[0,0].set_title(\"Movimiento promedio\")\n",
        "axes[0,1].set_title(\"Velocidad promedio de cadera\")\n",
        "axes[1,0].set_title(\"Inclinación promedio de hombros\")\n",
        "axes[1,1].set_title(\"Ángulo promedio de rodilla\")\n",
        "plt.tight_layout()\n",
        "plt.show()\n"
      ],
      "metadata": {
        "id": "dLbvBPCC2GFv",
        "colab": {
          "base_uri": "https://localhost:8080/",
          "height": 1000
        },
        "outputId": "9b428b40-8348-4cf6-8135-afcbef420e5e"
      },
      "execution_count": 19,
      "outputs": [
        {
          "output_type": "display_data",
          "data": {
            "text/plain": [
              "<Figure size 800x400 with 1 Axes>"
            ],
            "image/png": "[encoded data removed]"
          },
          "metadata": {}
        },
        {
          "output_type": "display_data",
          "data": {
            "text/plain": [
              "<Figure size 1200x400 with 2 Axes>"
            ],
            "image/png": "[encoded data removed]"
          },
          "metadata": {}
        },
        {
          "output_type": "display_data",
          "data": {
            "text/plain": [
              "<Figure size 1200x800 with 4 Axes>"
            ],
            "image/png": "[encoded data removed]"
          },
          "metadata": {}
        }
      ]
    },
    {
      "cell_type": "code",
      "source": [
        "# --- Estadísticas generales ---\n",
        "display(df.describe())\n",
        "\n",
        "print(\"\\n Observaciones:\")\n",
        "print(f\"- Promedio de FPS: {df['fps'].mean():.2f}\")\n",
        "print(f\"- Duración promedio: {df['duracion_seg'].mean():.2f} s\")\n",
        "print(f\"- Brillo promedio: {df['brillo_promedio'].mean():.2f}\")\n",
        "print(f\"- Movimiento promedio: {df['movimiento_promedio'].mean():.2f}\")\n",
        "print(f\"- Velocidad promedio de cadera: {df['velocidad_promedio'].mean():.4f}\")\n",
        "print(f\"- Ángulo rodilla promedio: {df['angulo_rodilla_promedio'].mean():.2f}°\")\n",
        "print(f\"- Inclinación promedio: {df['inclinacion_promedio'].mean():.4f}\")"
      ],
      "metadata": {
        "id": "1T8C_SCe9IZj",
        "colab": {
          "base_uri": "https://localhost:8080/",
          "height": 457
        },
        "outputId": "3ab7cdb6-d422-41d1-b085-5cc9dc5ff19b"
      },
      "execution_count": 20,
      "outputs": [
        {
          "output_type": "display_data",
          "data": {
            "text/plain": [
              "        fps      frames  duracion_seg  brillo_promedio  movimiento_promedio  \\\n",
              "count  54.0   54.000000     54.000000        54.000000            54.000000   \n",
              "mean   30.0   99.425926      3.313889       142.391852             1.826667   \n",
              "std     0.0   25.745197      0.858798         3.773734             0.837154   \n",
              "min    30.0   62.000000      2.070000       134.470000             0.590000   \n",
              "25%    30.0   81.000000      2.700000       140.055000             0.777500   \n",
              "50%    30.0   93.000000      3.100000       141.890000             2.070000   \n",
              "75%    30.0  114.000000      3.797500       145.947500             2.497500   \n",
              "max    30.0  176.000000      5.870000       147.700000             3.150000   \n",
              "\n",
              "       velocidad_promedio  angulo_rodilla_promedio  inclinacion_promedio  \n",
              "count           54.000000                54.000000             54.000000  \n",
              "mean             0.002446               165.010185              0.004267  \n",
              "std              0.000918                15.319122              0.002053  \n",
              "min              0.001300               120.980000              0.000900  \n",
              "25%              0.001600               168.440000              0.002650  \n",
              "50%              0.002400               171.545000              0.003900  \n",
              "75%              0.003075               173.377500              0.005750  \n",
              "max              0.004600               175.960000              0.009400  "
            ],
            "text/html": [
              "\n",
              "  <div id=\"df-a7ce8620-b6a5-45d5-82c5-ee7ea53b6ff7\" class=\"colab-df-container\">\n",
              "    <div>\n",
              "<style scoped>\n",
              "    .dataframe tbody tr th:only-of-type {\n",
              "        vertical-align: middle;\n",
              "    }\n",
              "\n",
              "    .dataframe tbody tr th {\n",
              "        vertical-align: top;\n",
              "    }\n",
              "\n",
              "    .dataframe thead th {\n",
              "        text-align: right;\n",
              "    }\n",
              "</style>\n",
              "<table border=\"1\" class=\"dataframe\">\n",
              "  <thead>\n",
              "    <tr style=\"text-align: right;\">\n",
              "      <th></th>\n",
              "      <th>fps</th>\n",
              "      <th>frames</th>\n",
              "      <th>duracion_seg</th>\n",
              "      <th>brillo_promedio</th>\n",
              "      <th>movimiento_promedio</th>\n",
              "      <th>velocidad_promedio</th>\n",
              "      <th>angulo_rodilla_promedio</th>\n",
              "      <th>inclinacion_promedio</th>\n",
              "    </tr>\n",
              "  </thead>\n",
              "  <tbody>\n",
              "    <tr>\n",
              "      <th>count</th>\n",
              "      <td>54.0</td>\n",
              "      <td>54.000000</td>\n",
              "      <td>54.000000</td>\n",
              "      <td>54.000000</td>\n",
              "      <td>54.000000</td>\n",
              "      <td>54.000000</td>\n",
              "      <td>54.000000</td>\n",
              "      <td>54.000000</td>\n",
              "    </tr>\n",
              "    <tr>\n",
              "      <th>mean</th>\n",
              "      <td>30.0</td>\n",
              "      <td>99.425926</td>\n",
              "      <td>3.313889</td>\n",
              "      <td>142.391852</td>\n",
              "      <td>1.826667</td>\n",
              "      <td>0.002446</td>\n",
              "      <td>165.010185</td>\n",
              "      <td>0.004267</td>\n",
              "    </tr>\n",
              "    <tr>\n",
              "      <th>std</th>\n",
              "      <td>0.0</td>\n",
              "      <td>25.745197</td>\n",
              "      <td>0.858798</td>\n",
              "      <td>3.773734</td>\n",
              "      <td>0.837154</td>\n",
              "      <td>0.000918</td>\n",
              "      <td>15.319122</td>\n",
              "      <td>0.002053</td>\n",
              "    </tr>\n",
              "    <tr>\n",
              "      <th>min</th>\n",
              "      <td>30.0</td>\n",
              "      <td>62.000000</td>\n",
              "      <td>2.070000</td>\n",
              "      <td>134.470000</td>\n",
              "      <td>0.590000</td>\n",
              "      <td>0.001300</td>\n",
              "      <td>120.980000</td>\n",
              "      <td>0.000900</td>\n",
              "    </tr>\n",
              "    <tr>\n",
              "      <th>25%</th>\n",
              "      <td>30.0</td>\n",
              "      <td>81.000000</td>\n",
              "      <td>2.700000</td>\n",
              "      <td>140.055000</td>\n",
              "      <td>0.777500</td>\n",
              "      <td>0.001600</td>\n",
              "      <td>168.440000</td>\n",
              "      <td>0.002650</td>\n",
              "    </tr>\n",
              "    <tr>\n",
              "      <th>50%</th>\n",
              "      <td>30.0</td>\n",
              "      <td>93.000000</td>\n",
              "      <td>3.100000</td>\n",
              "      <td>141.890000</td>\n",
              "      <td>2.070000</td>\n",
              "      <td>0.002400</td>\n",
              "      <td>171.545000</td>\n",
              "      <td>0.003900</td>\n",
              "    </tr>\n",
              "    <tr>\n",
              "      <th>75%</th>\n",
              "      <td>30.0</td>\n",
              "      <td>114.000000</td>\n",
              "      <td>3.797500</td>\n",
              "      <td>145.947500</td>\n",
              "      <td>2.497500</td>\n",
              "      <td>0.003075</td>\n",
              "      <td>173.377500</td>\n",
              "      <td>0.005750</td>\n",
              "    </tr>\n",
              "    <tr>\n",
              "      <th>max</th>\n",
              "      <td>30.0</td>\n",
              "      <td>176.000000</td>\n",
              "      <td>5.870000</td>\n",
              "      <td>147.700000</td>\n",
              "      <td>3.150000</td>\n",
              "      <td>0.004600</td>\n",
              "      <td>175.960000</td>\n",
              "      <td>0.009400</td>\n",
              "    </tr>\n",
              "  </tbody>\n",
              "</table>\n",
              "</div>\n",
              "    <div class=\"colab-df-buttons\">\n",
              "\n",
              "  <div class=\"colab-df-container\">\n",
              "    <button class=\"colab-df-convert\" onclick=\"convertToInteractive('df-a7ce8620-b6a5-45d5-82c5-ee7ea53b6ff7')\"\n",
              "            title=\"Convert this dataframe to an interactive table.\"\n",
              "            style=\"display:none;\">\n",
              "\n",
              "  <svg xmlns=\"http://www.w3.org/2000/svg\" height=\"24px\" viewBox=\"0 -960 960 960\">\n",
              "    <path d=\"M120-120v-720h720v720H120Zm60-500h600v-160H180v160Zm220 220h160v-160H400v160Zm0 220h160v-160H400v160ZM180-400h160v-160H180v160Zm440 0h160v-160H620v160ZM180-180h160v-160H180v160Zm440 0h160v-160H620v160Z\"/>\n",
              "  </svg>\n",
              "    </button>\n",
              "\n",
              "  <style>\n",
              "    .colab-df-container {\n",
              "      display:flex;\n",
              "      gap: 12px;\n",
              "    }\n",
              "\n",
              "    .colab-df-convert {\n",
              "      background-color: #E8F0FE;\n",
              "      border: none;\n",
              "      border-radius: 50%;\n",
              "      cursor: pointer;\n",
              "      display: none;\n",
              "      fill: #1967D2;\n",
              "      height: 32px;\n",
              "      padding: 0 0 0 0;\n",
              "      width: 32px;\n",
              "    }\n",
              "\n",
              "    .colab-df-convert:hover {\n",
              "      background-color: #E2EBFA;\n",
              "      box-shadow: 0px 1px 2px rgba(60, 64, 67, 0.3), 0px 1px 3px 1px rgba(60, 64, 67, 0.15);\n",
              "      fill: #174EA6;\n",
              "    }\n",
              "\n",
              "    .colab-df-buttons div {\n",
              "      margin-bottom: 4px;\n",
              "    }\n",
              "\n",
              "    [theme=dark] .colab-df-convert {\n",
              "      background-color: #3B4455;\n",
              "      fill: #D2E3FC;\n",
              "    }\n",
              "\n",
              "    [theme=dark] .colab-df-convert:hover {\n",
              "      background-color: #434B5C;\n",
              "      box-shadow: 0px 1px 3px 1px rgba(0, 0, 0, 0.15);\n",
              "      filter: drop-shadow(0px 1px 2px rgba(0, 0, 0, 0.3));\n",
              "      fill: #FFFFFF;\n",
              "    }\n",
              "  </style>\n",
              "\n",
              "    <script>\n",
              "      const buttonEl =\n",
              "        document.querySelector('#df-a7ce8620-b6a5-45d5-82c5-ee7ea53b6ff7 button.colab-df-convert');\n",
              "      buttonEl.style.display =\n",
              "        google.colab.kernel.accessAllowed ? 'block' : 'none';\n",
              "\n",
              "      async function convertToInteractive(key) {\n",
              "        const element = document.querySelector('#df-a7ce8620-b6a5-45d5-82c5-ee7ea53b6ff7');\n",
              "        const dataTable =\n",
              "          await google.colab.kernel.invokeFunction('convertToInteractive',\n",
              "                                                    [key], {});\n",
              "        if (!dataTable) return;\n",
              "\n",
              "        const docLinkHtml = 'Like what you see? Visit the ' +\n",
              "          '<a target=\"_blank\" href=https://colab.research.google.com/notebooks/data_table.ipynb>data table notebook</a>'\n",
              "          + ' to learn more about interactive tables.';\n",
              "        element.innerHTML = '';\n",
              "        dataTable['output_type'] = 'display_data';\n",
              "        await google.colab.output.renderOutput(dataTable, element);\n",
              "        const docLink = document.createElement('div');\n",
              "        docLink.innerHTML = docLinkHtml;\n",
              "        element.appendChild(docLink);\n",
              "      }\n",
              "    </script>\n",
              "  </div>\n",
              "\n",
              "\n",
              "    <div id=\"df-011b21a3-45e5-471a-834e-e6c129e4f45d\">\n",
              "      <button class=\"colab-df-quickchart\" onclick=\"quickchart('df-011b21a3-45e5-471a-834e-e6c129e4f45d')\"\n",
              "                title=\"Suggest charts\"\n",
              "                style=\"display:none;\">\n",
              "\n",
              "<svg xmlns=\"http://www.w3.org/2000/svg\" height=\"24px\"viewBox=\"0 0 24 24\"\n",
              "     width=\"24px\">\n",
              "    <g>\n",
              "        <path d=\"M19 3H5c-1.1 0-2 .9-2 2v14c0 1.1.9 2 2 2h14c1.1 0 2-.9 2-2V5c0-1.1-.9-2-2-2zM9 17H7v-7h2v7zm4 0h-2V7h2v10zm4 0h-2v-4h2v4z\"/>\n",
              "    </g>\n",
              "</svg>\n",
              "      </button>\n",
              "\n",
              "<style>\n",
              "  .colab-df-quickchart {\n",
              "      --bg-color: #E8F0FE;\n",
              "      --fill-color: #1967D2;\n",
              "      --hover-bg-color: #E2EBFA;\n",
              "      --hover-fill-color: #174EA6;\n",
              "      --disabled-fill-color: #AAA;\n",
              "      --disabled-bg-color: #DDD;\n",
              "  }\n",
              "\n",
              "  [theme=dark] .colab-df-quickchart {\n",
              "      --bg-color: #3B4455;\n",
              "      --fill-color: #D2E3FC;\n",
              "      --hover-bg-color: #434B5C;\n",
              "      --hover-fill-color: #FFFFFF;\n",
              "      --disabled-bg-color: #3B4455;\n",
              "      --disabled-fill-color: #666;\n",
              "  }\n",
              "\n",
              "  .colab-df-quickchart {\n",
              "    background-color: var(--bg-color);\n",
              "    border: none;\n",
              "    border-radius: 50%;\n",
              "    cursor: pointer;\n",
              "    display: none;\n",
              "    fill: var(--fill-color);\n",
              "    height: 32px;\n",
              "    padding: 0;\n",
              "    width: 32px;\n",
              "  }\n",
              "\n",
              "  .colab-df-quickchart:hover {\n",
              "    background-color: var(--hover-bg-color);\n",
              "    box-shadow: 0 1px 2px rgba(60, 64, 67, 0.3), 0 1px 3px 1px rgba(60, 64, 67, 0.15);\n",
              "    fill: var(--button-hover-fill-color);\n",
              "  }\n",
              "\n",
              "  .colab-df-quickchart-complete:disabled,\n",
              "  .colab-df-quickchart-complete:disabled:hover {\n",
              "    background-color: var(--disabled-bg-color);\n",
              "    fill: var(--disabled-fill-color);\n",
              "    box-shadow: none;\n",
              "  }\n",
              "\n",
              "  .colab-df-spinner {\n",
              "    border: 2px solid var(--fill-color);\n",
              "    border-color: transparent;\n",
              "    border-bottom-color: var(--fill-color);\n",
              "    animation:\n",
              "      spin 1s steps(1) infinite;\n",
              "  }\n",
              "\n",
              "  @keyframes spin {\n",
              "    0% {\n",
              "      border-color: transparent;\n",
              "      border-bottom-color: var(--fill-color);\n",
              "      border-left-color: var(--fill-color);\n",
              "    }\n",
              "    20% {\n",
              "      border-color: transparent;\n",
              "      border-left-color: var(--fill-color);\n",
              "      border-top-color: var(--fill-color);\n",
              "    }\n",
              "    30% {\n",
              "      border-color: transparent;\n",
              "      border-left-color: var(--fill-color);\n",
              "      border-top-color: var(--fill-color);\n",
              "      border-right-color: var(--fill-color);\n",
              "    }\n",
              "    40% {\n",
              "      border-color: transparent;\n",
              "      border-right-color: var(--fill-color);\n",
              "      border-top-color: var(--fill-color);\n",
              "    }\n",
              "    60% {\n",
              "      border-color: transparent;\n",
              "      border-right-color: var(--fill-color);\n",
              "    }\n",
              "    80% {\n",
              "      border-color: transparent;\n",
              "      border-right-color: var(--fill-color);\n",
              "      border-bottom-color: var(--fill-color);\n",
              "    }\n",
              "    90% {\n",
              "      border-color: transparent;\n",
              "      border-bottom-color: var(--fill-color);\n",
              "    }\n",
              "  }\n",
              "</style>\n",
              "\n",
              "      <script>\n",
              "        async function quickchart(key) {\n",
              "          const quickchartButtonEl =\n",
              "            document.querySelector('#' + key + ' button');\n",
              "          quickchartButtonEl.disabled = true;  // To prevent multiple clicks.\n",
              "          quickchartButtonEl.classList.add('colab-df-spinner');\n",
              "          try {\n",
              "            const charts = await google.colab.kernel.invokeFunction(\n",
              "                'suggestCharts', [key], {});\n",
              "          } catch (error) {\n",
              "            console.error('Error during call to suggestCharts:', error);\n",
              "          }\n",
              "          quickchartButtonEl.classList.remove('colab-df-spinner');\n",
              "          quickchartButtonEl.classList.add('colab-df-quickchart-complete');\n",
              "        }\n",
              "        (() => {\n",
              "          let quickchartButtonEl =\n",
              "            document.querySelector('#df-011b21a3-45e5-471a-834e-e6c129e4f45d button');\n",
              "          quickchartButtonEl.style.display =\n",
              "            google.colab.kernel.accessAllowed ? 'block' : 'none';\n",
              "        })();\n",
              "      </script>\n",
              "    </div>\n",
              "\n",
              "    </div>\n",
              "  </div>\n"
            ],
            "application/vnd.google.colaboratory.intrinsic+json": {
              "type": "dataframe",
              "summary": "{\n  \"name\": \"print(f\\\"- Inclinaci\\u00f3n promedio: {df['inclinacion_promedio']\",\n  \"rows\": 8,\n  \"fields\": [\n    {\n      \"column\": \"fps\",\n      \"properties\": {\n        \"dtype\": \"number\",\n        \"std\": 14.498768420603376,\n        \"min\": 0.0,\n        \"max\": 54.0,\n        \"num_unique_values\": 3,\n        \"samples\": [\n          54.0,\n          30.0,\n          0.0\n        ],\n        \"semantic_type\": \"\",\n        \"description\": \"\"\n      }\n    },\n    {\n      \"column\": \"frames\",\n      \"properties\": {\n        \"dtype\": \"number\",\n        \"std\": 45.24858458600627,\n        \"min\": 25.745196915557365,\n        \"max\": 176.0,\n        \"num_unique_values\": 8,\n        \"samples\": [\n          99.42592592592592,\n          93.0,\n          54.0\n        ],\n        \"semantic_type\": \"\",\n        \"description\": \"\"\n      }\n    },\n    {\n      \"column\": \"duracion_seg\",\n      \"properties\": {\n        \"dtype\": \"number\",\n        \"std\": 18.052614189624457,\n        \"min\": 0.8587977921482692,\n        \"max\": 54.0,\n        \"num_unique_values\": 8,\n        \"samples\": [\n          3.3138888888888887,\n          3.0999999999999996,\n          54.0\n        ],\n        \"semantic_type\": \"\",\n        \"description\": \"\"\n      }\n    },\n    {\n      \"column\": \"brillo_promedio\",\n      \"properties\": {\n        \"dtype\": \"number\",\n        \"std\": 54.231782052381305,\n        \"min\": 3.773733986922383,\n        \"max\": 147.7,\n        \"num_unique_values\": 8,\n        \"samples\": [\n          142.39185185185187,\n          141.89,\n          54.0\n        ],\n        \"semantic_type\": \"\",\n        \"description\": \"\"\n      }\n    },\n    {\n      \"column\": \"movimiento_promedio\",\n      \"properties\": {\n        \"dtype\": \"number\",\n        \"std\": 18.52053542351731,\n        \"min\": 0.59,\n        \"max\": 54.0,\n        \"num_unique_values\": 8,\n        \"samples\": [\n          1.8266666666666664,\n          2.07,\n          54.0\n        ],\n        \"semantic_type\": \"\",\n        \"description\": \"\"\n      }\n    },\n    {\n      \"column\": \"velocidad_promedio\",\n      \"properties\": {\n        \"dtype\": \"number\",\n        \"std\": 19.09105785228385,\n        \"min\": 0.0009183070894597631,\n        \"max\": 54.0,\n        \"num_unique_values\": 8,\n        \"samples\": [\n          0.002446296296296297,\n          0.0024,\n          54.0\n        ],\n        \"semantic_type\": \"\",\n        \"description\": \"\"\n      }\n    },\n    {\n      \"column\": \"angulo_rodilla_promedio\",\n      \"properties\": {\n        \"dtype\": \"number\",\n        \"std\": 62.59808897917102,\n        \"min\": 15.319122282697176,\n        \"max\": 175.96,\n        \"num_unique_values\": 8,\n        \"samples\": [\n          165.0101851851852,\n          171.54500000000002,\n          54.0\n        ],\n        \"semantic_type\": \"\",\n        \"description\": \"\"\n      }\n    },\n    {\n      \"column\": \"inclinacion_promedio\",\n      \"properties\": {\n        \"dtype\": \"number\",\n        \"std\": 19.090422611443213,\n        \"min\": 0.0009,\n        \"max\": 54.0,\n        \"num_unique_values\": 8,\n        \"samples\": [\n          0.004266666666666667,\n          0.0039,\n          54.0\n        ],\n        \"semantic_type\": \"\",\n        \"description\": \"\"\n      }\n    }\n  ]\n}"
            }
          },
          "metadata": {}
        },
        {
          "output_type": "stream",
          "name": "stdout",
          "text": [
            "\n",
            " Observaciones:\n",
            "- Promedio de FPS: 30.00\n",
            "- Duración promedio: 3.31 s\n",
            "- Brillo promedio: 142.39\n",
            "- Movimiento promedio: 1.83\n",
            "- Velocidad promedio de cadera: 0.0024\n",
            "- Ángulo rodilla promedio: 165.01°\n",
            "- Inclinación promedio: 0.0043\n"
          ]
        }
      ]
    },
    {
      "cell_type": "markdown",
      "source": [
        "## **Análisis Exploratorio de los Datos**"
      ],
      "metadata": {
        "id": "w6CIygBp8X3r"
      }
    },
    {
      "cell_type": "markdown",
      "source": [
        "### **Análisis Exploratorio sin Landmarks**"
      ],
      "metadata": {
        "id": "YqgzTjmM8lbv"
      }
    },
    {
      "cell_type": "markdown",
      "source": [
        "\n",
        "\n",
        "En esta primera fase del análisis se procesaron los videos agrupados en tres categorías principales: Caminar hacia Adelante (de frente), Atrás (de espalda) y Sentado. El objetivo fue obtener una caracterización general de las condiciones físicas de los videos y de los movimientos capturados, mediante el cálculo de métricas básicas como brillo promedio, duración, cantidad de frames, movimiento promedio, velocidad estimada e inclinación de hombros.\n",
        "\n",
        "Los resultados muestran que todos los videos mantienen una tasa constante de 30 FPS, garantizando una captura fluida y comparable entre categorías. La duración promedio de los videos es de 3.31 segundos, con ligeras variaciones según la acción ejecutada: los videos de la categoría Sentado tienden a ser ligeramente más largos, mientras que los de Atrás presentan duraciones más cortas.\n",
        "\n",
        "En cuanto al brillo promedio, el valor global obtenido fue de 143.6, lo que indica una iluminación relativamente homogénea y adecuada para la posterior detección de puntos corporales. Sin embargo, pequeñas variaciones entre categorías sugieren leves diferencias en las condiciones de luz ambiental o en la distancia entre el sujeto y la cámara.\n",
        "\n",
        "El movimiento promedio global fue de 1.23, siendo significativamente mayor en las categorías Adelante y Atrás en comparación con Sentado. Este comportamiento es coherente con la naturaleza dinámica de las primeras dos categorías, que implican desplazamiento corporal, frente a la tercera, caracterizada por movimientos más estáticos de incorporación y flexión.\n",
        "\n",
        "Respecto a la inclinación promedio de hombros es de 0.0042, los valores son bajos y relativamente estables, lo que refleja una correcta postura y simetría corporal durante la ejecución de las tareas. No obstante, algunos videos presentan valores puntuales más altos, lo que puede asociarse a ligeras desviaciones en la postura o a variaciones de la perspectiva de la cámara.\n",
        "\n",
        "En conjunto, el análisis preliminar confirma que los datos de video son consistentes y de calidad suficiente para la siguiente fase del proyecto, donde se aplicará la detección de landmarks corporales mediante MediaPipe Pose para obtener información biomecánica más detallada (ángulos, desplazamientos, y análisis postural 3D). Este diagnóstico inicial permite establecer una línea base sólida para el procesamiento posterior y la comparación cuantitativa entre categorías de movimiento."
      ],
      "metadata": {
        "id": "C3jiyMjb8Voq"
      }
    },
    {
      "cell_type": "markdown",
      "source": [
        "### **Análisis Exploratorio con Landmarks**"
      ],
      "metadata": {
        "id": "Tcfo85M_8odQ"
      }
    },
    {
      "cell_type": "markdown",
      "source": [
        "En esta segunda fase del proyecto se implementó el modelo MediaPipe Pose con el fin de realizar un análisis biomecánico más detallado a partir de los videos clasificados en las categorías caminando hacia Adelante (de frente), Atrás (de espalda) y Sentado. Gracias a la detección de landmarks corporales tridimensionales, fue posible obtener medidas más precisas sobre la postura y el movimiento, como el ángulo promedio de la rodilla, la velocidad promedio de la cadera y la inclinación promedio de los hombros, además de las métricas básicas evaluadas en la fase anterior (duración, FPS, brillo y movimiento).\n",
        "\n",
        "Los resultados generales muestran que los videos mantienen una frecuencia constante de 30 FPS, garantizando estabilidad temporal y confiabilidad en las mediciones. La duración promedio de los videos es de 3.31 segundos, siendo ligeramente mayor en la categoría Sentado debido a la naturaleza más pausada del movimiento de incorporarse o sentarse. El brillo promedio global de 142.39 se mantiene uniforme entre categorías, reflejando condiciones de iluminación consistentes y adecuadas para el análisis visual.\n",
        "\n",
        "El movimiento promedio es de 1.83 y es más elevado en las categorías Adelante y Atrás, coherente con el desplazamiento corporal que implican, mientras que la categoría Sentado presenta menor variación, confirmando un patrón más estable y controlado. En cuanto a la velocidad promedio de cadera es de 0.0024, se observa un comportamiento similar: los videos con desplazamiento presentan mayor velocidad media del punto pélvico, mientras que en los ejercicios de sentado los valores son menores, reflejando movimientos de baja amplitud y principalmente verticales.\n",
        "\n",
        "La inclinación promedio de hombros es de 0.0043, se mantiene baja y uniforme, lo que sugiere una postura estable y bien alineada en la mayoría de los casos. Sin embargo, la categoría Atrás presenta una leve tendencia a una mayor inclinación, posiblemente asociada a microajustes posturales o a ligeras variaciones de ángulo de cámara. Finalmente, el ángulo promedio de rodilla es de 165.01 constituye uno de los indicadores más relevantes: las acciones de caminar (Adelante y Atrás) muestran valores próximos a la extensión completa de aproxiamdamente 170°, mientras que en la categoría Sentado el ángulo disminuye considerablemente de aproxiamdamente 140°, evidenciando la flexión característica del movimiento de sentarse o levantarse.\n",
        "\n",
        "En conjunto, este análisis confirma que la incorporación de MediaPipe Pose permite una comprensión más profunda de los patrones de movimiento y postura, facilitando la cuantificación de variables biomecánicas clave. Estas métricas servirán como base para etapas posteriores del proyecto, donde se buscará automatizar la clasificación de posturas y analizar la eficiencia de movimiento mediante técnicas de aprendizaje automático. La metodología aplicada demuestra que la combinación de visión por computadora y análisis estadístico constituye una herramienta robusta para el estudio del comportamiento corporal en distintos contextos."
      ],
      "metadata": {
        "id": "jJ80ZJbB8qag"
      }
    },
    {
      "cell_type": "markdown",
      "source": [
        "### **Comparación**"
      ],
      "metadata": {
        "id": "3ZSdb11DME89"
      }
    },
    {
      "cell_type": "markdown",
      "source": [
        "Teniendo en cuenta estas dos fases realizadas, la comparación entre el análisis sin landmarks y con landmarks evidencia una evolución significativa en la precisión y el nivel de detalle de las métricas obtenidas. En la fase sin landmarks, las variables se centraron en características visuales generales como brillo, duración, FPS y movimiento promedio, lo que permitió una descripción básica del comportamiento de los videos.\n",
        "\n",
        "Sin embargo, al incorporar MediaPipe Pose, el análisis se enriqueció con información biomecánica más específica, como la velocidad promedio de la cadera, la inclinación de los hombros y el ángulo promedio de la rodilla, que reflejan directamente la dinámica corporal. Esto permitió observar con mayor claridad las diferencias entre categorías como las acciones de caminar hacia Adelante (de frente) y Atrás (de espalda) presentaron mayor movimiento y velocidad de cadera, mientras que Sentado mostró menor movimiento y un ángulo de rodilla más cerrado de aproximadamente 140°, coherente con la postura de flexión.\n",
        "\n",
        "También hubo aspectos que se mantuvieron bastante similares entre ambos análisis. Por ejemplo, el promedio de FPS que fue 30 y la duración promedio de los videos de aproximadamente 3.3 s, se conservaron casi idénticos, lo que indica que la incorporación de landmarks no afectó la calidad técnica ni la estructura temporal del material procesado. Además, los valores de brillo promedio se mantuvieron muy próximos (143.6 sin landmarks vs. 142.4 con landmarks), lo que demuestra coherencia en las condiciones de iluminación y grabación. Incluso las tendencias generales entre categorías mayor movimiento y velocidad en Adelante y Atrás, y menor en Sentado se repitieron en ambos casos.\n",
        "\n",
        "En resumen, el uso de landmarks no solo incrementó la exactitud del análisis, sino que también permitió interpretar los movimientos desde una perspectiva anatómica y funcional, aportando un entendimiento más profundo del comportamiento corporal registrado en los videos. Además, el procesamiento con landmarks refinó las mediciones sin alterar la base del análisis original, manteniendo la consistencia en los patrones generales de comportamiento."
      ],
      "metadata": {
        "id": "9HWSdI0kG_pY"
      }
    },
    {
      "cell_type": "markdown",
      "source": [
        "## **Conclusiones**"
      ],
      "metadata": {
        "id": "c8bIl3sbJ6sM"
      }
    },
    {
      "cell_type": "markdown",
      "source": [
        "El análisis realizado en las dos fases del proyecto permitió validar la calidad de los datos y evidenciar la utilidad de la incorporación de landmarks corporales para obtener métricas biomecánicas más precisas. En la primera fase, centrada en parámetros generales como brillo, FPS, duración y movimiento promedio, se logró establecer una caracterización básica y consistente de las condiciones físicas de los videos, garantizando una base sólida para el procesamiento posterior.\n",
        "\n",
        "En la segunda fase, la implementación del modelo MediaPipe Pose amplió considerablemente el alcance del análisis, permitiendo calcular indicadores específicos como el ángulo de rodilla, la velocidad de cadera y la inclinación de hombros. Estos parámetros ofrecieron una visión más profunda de la dinámica corporal y posibilitaron una interpretación anatómica del movimiento, mostrando diferencias claras entre las categorías evaluadas (Adelante, Atrás y Sentado).\n",
        "\n",
        "La comparación entre ambas fases evidenció que, aunque las métricas técnicas generales (FPS, duración y brillo) se mantuvieron estables, la inclusión de landmarks incrementó significativamente el nivel de detalle y la precisión del análisis. Las tendencias observadas se mantuvieron coherentes (mayor movimiento y velocidad en las categorías dinámicas y menor en las estáticas), lo que demuestra la consistencia del enfoque y la fiabilidad de los resultados obtenidos.\n",
        "\n",
        "Finalmente, los resultados demuestran que combinar la visión por computadora con el análisis del movimiento corporal es una herramienta muy útil para estudiar de manera detallada cómo se mueve una persona. Esta integración permite observar con mayor precisión los cambios en la postura, la coordinación y la simetría del cuerpo durante diferentes acciones. Además, el método aplicado facilita obtener mediciones objetivas y confiables de variables como la velocidad, los ángulos articulares y la alineación corporal, lo que contribuye a una comprensión más completa del comportamiento físico y de la calidad de los movimientos registrados en los videos."
      ],
      "metadata": {
        "id": "_MYhghbxmXGO"
      }
    },
    {
      "cell_type": "markdown",
      "source": [
        "### **Siguientes pasos que se tomaran en el proyecto**"
      ],
      "metadata": {
        "id": "wsmUBCMyKE9r"
      }
    },
    {
      "cell_type": "markdown",
      "source": [
        "En la siguiente fase del proyecto se tiene previsto ampliar y validar el conjunto de datos utilizado. Para ello, se recopilarán nuevos videos que incluyan diferentes participantes, variaciones en la iluminación y cambios en los ángulos de cámara, con el fin de asegurar una mayor representatividad y diversidad en las condiciones de grabación. Este proceso permitirá mejorar el análisis y reducir posibles sesgos relacionados con la posición o el entorno de captura.\n",
        "\n",
        "Luego, se realizará una generación y normalización más precisa de las características biomecánicas obtenidas a partir de los landmarks detectados. En esta etapa se extraerán métricas como los ángulos articulares, las velocidades promedio y las inclinaciones de distintas partes del cuerpo, especialmente rodillas, caderas y hombros. Además, se aplicarán técnicas de filtrado y suavizado a las coordenadas de las articulaciones para eliminar el ruido presente en los datos y garantizar mediciones más estables y confiables.\n",
        "\n",
        "Cuando los datos estén procesados, realizaremos el entrenamiento de modelos de clasificación supervisada que permitan identificar de forma automática las actividades presentes en los videos, como caminar hacia adelante, caminar hacia atrás y sentarse. Para esto, pensamos utilizar algoritmos como SVM o Random Forest, dividiendo los datos en conjuntos de entrenamiento y prueba con el objetivo de evaluar el desempeño del sistema y optimizar sus parámetros de predicción.\n",
        "\n",
        "Tambien, se llevará a cabo una evaluación detallada del rendimiento del modelo utilizando métricas como precisión, recall y F1-Score, las cuales permitirán medir su capacidad para reconocer correctamente las diferentes categorías de movimiento.\n",
        "\n",
        "Finalmente, se continuará fortaleciendo la parte visual del proyecto mediante la generación de nuevas gráficas y visualizaciones comparativas que permitan interpretar de forma más clara los resultados obtenidos. En esta primera fase ya se presentaron representaciones de variables como el brillo promedio, los FPS, el movimiento y la velocidad de cadera por categoría, las cuales ayudaron a identificar patrones iniciales de comportamiento. En la siguiente etapa, estas visualizaciones se ampliarán para incluir nuevas métricas como ángulos articulares, inclinaciones corporales y otros. Las gráficas seguirán siendo una herramienta fundamental para analizar la evolución de las métricas y validar visualmente el desempeño de los modelos implementados.\n"
      ],
      "metadata": {
        "id": "UGdBkBT83eLs"
      }
    },
    {
      "cell_type": "markdown",
      "source": [
        "### **Estrategias para la ampliación del conjunto de datos**"
      ],
      "metadata": {
        "id": "8PdyYHleKJ-G"
      }
    },
    {
      "cell_type": "markdown",
      "source": [
        "Para fortalecer el análisis y mejorar la precisión de los modelos, es recomendable ampliar el conjunto de datos mediante estrategias que aseguren mayor diversidad y representatividad de los movimientos. Una opción para esto es incrementar el número de videos por categoría (Adelante, Atrás y Sentado) incluyendo diferentes personas, edades, contextos de iluminación y fondos, lo que permitiría entrenar modelos más generalizables. También se pueden registrar nuevas categorías de movimiento, como “caminar lateralmente”, “agacharse” o “levantarse”, ampliando el rango de posturas y transiciones analizadas.\n",
        "\n",
        "Otra estrategia consiste en capturar los videos desde distintos ángulos de cámara (frontal, lateral y posterior) para mejorar la precisión de las mediciones 3D y reducir errores por perspectiva. Tambien, puede emplearse aumento de datos, generando variaciones de los videos originales como rotaciones leves, cambios de brillo o escalado con el fin de incrementar el tamaño del conjunto sin necesidad de grabar nuevo material.\n",
        "\n",
        "En cuanto a las métricas ya estamos utilizando: velocidad promedio de la cadera, inclinación de hombros, ángulo de rodilla, movimiento promedio, brillo, duración, frames y FPS, las cuales ofrecen una base sólida pero se podrían complementar con indicadores adicionales, como:\n",
        "- **Ángulo de cadera y tobillo:** para analizar la coordinación de las extremidades inferiores durante el desplazamiento.\n",
        "- **Distancia entre hombros y caderas:** Seria útil para detectar desviaciones o rotaciones del tronco.\n",
        "- **Aceleración promedio de articulaciones:** para medir la fluidez y la intensidad del movimiento.\n",
        "- **Simetría corporal entre el lado derecho e izquierdo:** que serviría para identificar desbalances posturales o compensaciones.\n",
        "\n",
        "Con esta ampliación del conjunto de datos y la inclusión de estas nuevas métricas se proporcionaría una base más completa para análisis posteriores, especialmente si se desea implementar una clasificación automática de posturas o desarrollar un modelo predictivo supervisado que identifique y diferencie los tipos de movimiento con mayor exactitud."
      ],
      "metadata": {
        "id": "tEbTKlritzza"
      }
    },
    {
      "cell_type": "markdown",
      "source": [
        "### **Análisis de aspectos éticos**"
      ],
      "metadata": {
        "id": "S6WMypMTKRpQ"
      }
    },
    {
      "cell_type": "markdown",
      "source": [
        "El desarrollo de este sistema de análisis de movimiento basado en visión por computadora implica considerar varios aspectos éticos relacionados con la privacidad, la transparencia y el uso responsable de la tecnología.\n",
        "\n",
        "En primer lugar, dado que los datos utilizados provienen de videos que registran a personas en movimiento, es fundamental garantizar el consentimiento informado de los participantes y asegurar que el material se use únicamente con fines académicos o de investigación. Las grabaciones deben almacenarse de forma segura y anónima, evitando cualquier identificación personal directa o indirecta.\n",
        "\n",
        "Asimismo, es importante promover la transparencia en los algoritmos utilizados, explicando cómo funcionan los modelos de detección y qué variables se derivan de ellos. Aunque herramientas como MediaPipe Pose son altamente precisas, siempre existe un margen de error que debe comunicarse de manera clara para no generar conclusiones erróneas sobre el rendimiento físico o la postura de una persona.\n",
        "\n",
        "Desde una perspectiva de aplicación práctica, debe garantizarse que este tipo de tecnología no sea empleada con fines de vigilancia o control no autorizado, sino para apoyar procesos de salud, deporte o ergonomía en entornos éticamente controlados.\n",
        "\n",
        "Finalmente, el proyecto demuestra que es posible aprovechar el potencial del análisis automatizado del movimiento de manera responsable, respetuosa y segura, priorizando el bienestar y la privacidad de las personas. Con una gestión adecuada de los datos y una comunicación ética de los resultados, este tipo de herramientas pueden contribuir significativamente al progreso en áreas de rehabilitación, investigación biomecánica y prevención de lesiones sin comprometer la integridad humana."
      ],
      "metadata": {
        "id": "4Y28-nU22sRz"
      }
    }
  ]
}